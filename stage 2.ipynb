{
  "nbformat": 4,
  "nbformat_minor": 0,
  "metadata": {
    "colab": {
      "provenance": []
    },
    "kernelspec": {
      "name": "python3",
      "display_name": "Python 3"
    },
    "language_info": {
      "name": "python"
    }
  },
  "cells": [
    {
      "cell_type": "markdown",
      "source": [
        "# Data Preprocessing - Stage 2"
      ],
      "metadata": {
        "id": "oogGM_jdcg6B"
      }
    },
    {
      "cell_type": "markdown",
      "source": [
        "## Import Library"
      ],
      "metadata": {
        "id": "5btyEBewvDRE"
      }
    },
    {
      "cell_type": "code",
      "execution_count": null,
      "metadata": {
        "id": "WaJ6jQo8qx46"
      },
      "outputs": [],
      "source": [
        "import pandas as pd\n",
        "import numpy as np\n",
        "\n",
        "import matplotlib.pyplot as plt\n",
        "import plotly.express as px\n",
        "import seaborn as sns\n",
        "\n",
        "from scipy import stats\n",
        "import scipy as sp\n",
        "from sklearn.preprocessing import MinMaxScaler, StandardScaler\n",
        "from sklearn.preprocessing import LabelEncoder\n",
        "from imblearn.over_sampling import SMOTE\n",
        "from sklearn.model_selection import train_test_split\n",
        "from sklearn.feature_selection import SelectKBest,f_classif,chi2\n",
        "\n",
        "import warnings\n",
        "warnings.simplefilter(\"ignore\")"
      ]
    },
    {
      "cell_type": "markdown",
      "source": [
        "## Load Dataset"
      ],
      "metadata": {
        "id": "52TKx10JvLsM"
      }
    },
    {
      "cell_type": "code",
      "source": [
        "#Mengimput dataset TravelInsurancePrediction.csv\n",
        "url='https://drive.google.com/file/d/1hDfrC_4mjz5Ps24h8pzUiD8PShSQwiRh/view?usp=sharing'\n",
        "url='https://drive.google.com/uc?id=' + url.split('/')[-2]\n",
        "df = pd.read_csv(url)"
      ],
      "metadata": {
        "id": "X1os-uE7sIfb"
      },
      "execution_count": null,
      "outputs": []
    },
    {
      "cell_type": "markdown",
      "source": [
        "## 1. Data Cleansing"
      ],
      "metadata": {
        "id": "bYGRXlkDssjo"
      }
    },
    {
      "cell_type": "code",
      "source": [
        "df.head()"
      ],
      "metadata": {
        "colab": {
          "base_uri": "https://localhost:8080/",
          "height": 206
        },
        "id": "cMoIuareEDR3",
        "outputId": "6cc2aa08-b42c-42aa-aacf-55ecf1d265ee"
      },
      "execution_count": null,
      "outputs": [
        {
          "output_type": "execute_result",
          "data": {
            "text/plain": [
              "   Unnamed: 0  Age               Employment Type GraduateOrNot  AnnualIncome  \\\n",
              "0           0   31             Government Sector           Yes        400000   \n",
              "1           1   31  Private Sector/Self Employed           Yes       1250000   \n",
              "2           2   34  Private Sector/Self Employed           Yes        500000   \n",
              "3           3   28  Private Sector/Self Employed           Yes        700000   \n",
              "4           4   28  Private Sector/Self Employed           Yes        700000   \n",
              "\n",
              "   FamilyMembers  ChronicDiseases FrequentFlyer EverTravelledAbroad  \\\n",
              "0              6                1            No                  No   \n",
              "1              7                0            No                  No   \n",
              "2              4                1            No                  No   \n",
              "3              3                1            No                  No   \n",
              "4              8                1           Yes                  No   \n",
              "\n",
              "   TravelInsurance  \n",
              "0                0  \n",
              "1                0  \n",
              "2                1  \n",
              "3                0  \n",
              "4                0  "
            ],
            "text/html": [
              "\n",
              "  <div id=\"df-b80df6a2-19fa-471c-a229-1db2452b6396\">\n",
              "    <div class=\"colab-df-container\">\n",
              "      <div>\n",
              "<style scoped>\n",
              "    .dataframe tbody tr th:only-of-type {\n",
              "        vertical-align: middle;\n",
              "    }\n",
              "\n",
              "    .dataframe tbody tr th {\n",
              "        vertical-align: top;\n",
              "    }\n",
              "\n",
              "    .dataframe thead th {\n",
              "        text-align: right;\n",
              "    }\n",
              "</style>\n",
              "<table border=\"1\" class=\"dataframe\">\n",
              "  <thead>\n",
              "    <tr style=\"text-align: right;\">\n",
              "      <th></th>\n",
              "      <th>Unnamed: 0</th>\n",
              "      <th>Age</th>\n",
              "      <th>Employment Type</th>\n",
              "      <th>GraduateOrNot</th>\n",
              "      <th>AnnualIncome</th>\n",
              "      <th>FamilyMembers</th>\n",
              "      <th>ChronicDiseases</th>\n",
              "      <th>FrequentFlyer</th>\n",
              "      <th>EverTravelledAbroad</th>\n",
              "      <th>TravelInsurance</th>\n",
              "    </tr>\n",
              "  </thead>\n",
              "  <tbody>\n",
              "    <tr>\n",
              "      <th>0</th>\n",
              "      <td>0</td>\n",
              "      <td>31</td>\n",
              "      <td>Government Sector</td>\n",
              "      <td>Yes</td>\n",
              "      <td>400000</td>\n",
              "      <td>6</td>\n",
              "      <td>1</td>\n",
              "      <td>No</td>\n",
              "      <td>No</td>\n",
              "      <td>0</td>\n",
              "    </tr>\n",
              "    <tr>\n",
              "      <th>1</th>\n",
              "      <td>1</td>\n",
              "      <td>31</td>\n",
              "      <td>Private Sector/Self Employed</td>\n",
              "      <td>Yes</td>\n",
              "      <td>1250000</td>\n",
              "      <td>7</td>\n",
              "      <td>0</td>\n",
              "      <td>No</td>\n",
              "      <td>No</td>\n",
              "      <td>0</td>\n",
              "    </tr>\n",
              "    <tr>\n",
              "      <th>2</th>\n",
              "      <td>2</td>\n",
              "      <td>34</td>\n",
              "      <td>Private Sector/Self Employed</td>\n",
              "      <td>Yes</td>\n",
              "      <td>500000</td>\n",
              "      <td>4</td>\n",
              "      <td>1</td>\n",
              "      <td>No</td>\n",
              "      <td>No</td>\n",
              "      <td>1</td>\n",
              "    </tr>\n",
              "    <tr>\n",
              "      <th>3</th>\n",
              "      <td>3</td>\n",
              "      <td>28</td>\n",
              "      <td>Private Sector/Self Employed</td>\n",
              "      <td>Yes</td>\n",
              "      <td>700000</td>\n",
              "      <td>3</td>\n",
              "      <td>1</td>\n",
              "      <td>No</td>\n",
              "      <td>No</td>\n",
              "      <td>0</td>\n",
              "    </tr>\n",
              "    <tr>\n",
              "      <th>4</th>\n",
              "      <td>4</td>\n",
              "      <td>28</td>\n",
              "      <td>Private Sector/Self Employed</td>\n",
              "      <td>Yes</td>\n",
              "      <td>700000</td>\n",
              "      <td>8</td>\n",
              "      <td>1</td>\n",
              "      <td>Yes</td>\n",
              "      <td>No</td>\n",
              "      <td>0</td>\n",
              "    </tr>\n",
              "  </tbody>\n",
              "</table>\n",
              "</div>\n",
              "      <button class=\"colab-df-convert\" onclick=\"convertToInteractive('df-b80df6a2-19fa-471c-a229-1db2452b6396')\"\n",
              "              title=\"Convert this dataframe to an interactive table.\"\n",
              "              style=\"display:none;\">\n",
              "        \n",
              "  <svg xmlns=\"http://www.w3.org/2000/svg\" height=\"24px\"viewBox=\"0 0 24 24\"\n",
              "       width=\"24px\">\n",
              "    <path d=\"M0 0h24v24H0V0z\" fill=\"none\"/>\n",
              "    <path d=\"M18.56 5.44l.94 2.06.94-2.06 2.06-.94-2.06-.94-.94-2.06-.94 2.06-2.06.94zm-11 1L8.5 8.5l.94-2.06 2.06-.94-2.06-.94L8.5 2.5l-.94 2.06-2.06.94zm10 10l.94 2.06.94-2.06 2.06-.94-2.06-.94-.94-2.06-.94 2.06-2.06.94z\"/><path d=\"M17.41 7.96l-1.37-1.37c-.4-.4-.92-.59-1.43-.59-.52 0-1.04.2-1.43.59L10.3 9.45l-7.72 7.72c-.78.78-.78 2.05 0 2.83L4 21.41c.39.39.9.59 1.41.59.51 0 1.02-.2 1.41-.59l7.78-7.78 2.81-2.81c.8-.78.8-2.07 0-2.86zM5.41 20L4 18.59l7.72-7.72 1.47 1.35L5.41 20z\"/>\n",
              "  </svg>\n",
              "      </button>\n",
              "      \n",
              "  <style>\n",
              "    .colab-df-container {\n",
              "      display:flex;\n",
              "      flex-wrap:wrap;\n",
              "      gap: 12px;\n",
              "    }\n",
              "\n",
              "    .colab-df-convert {\n",
              "      background-color: #E8F0FE;\n",
              "      border: none;\n",
              "      border-radius: 50%;\n",
              "      cursor: pointer;\n",
              "      display: none;\n",
              "      fill: #1967D2;\n",
              "      height: 32px;\n",
              "      padding: 0 0 0 0;\n",
              "      width: 32px;\n",
              "    }\n",
              "\n",
              "    .colab-df-convert:hover {\n",
              "      background-color: #E2EBFA;\n",
              "      box-shadow: 0px 1px 2px rgba(60, 64, 67, 0.3), 0px 1px 3px 1px rgba(60, 64, 67, 0.15);\n",
              "      fill: #174EA6;\n",
              "    }\n",
              "\n",
              "    [theme=dark] .colab-df-convert {\n",
              "      background-color: #3B4455;\n",
              "      fill: #D2E3FC;\n",
              "    }\n",
              "\n",
              "    [theme=dark] .colab-df-convert:hover {\n",
              "      background-color: #434B5C;\n",
              "      box-shadow: 0px 1px 3px 1px rgba(0, 0, 0, 0.15);\n",
              "      filter: drop-shadow(0px 1px 2px rgba(0, 0, 0, 0.3));\n",
              "      fill: #FFFFFF;\n",
              "    }\n",
              "  </style>\n",
              "\n",
              "      <script>\n",
              "        const buttonEl =\n",
              "          document.querySelector('#df-b80df6a2-19fa-471c-a229-1db2452b6396 button.colab-df-convert');\n",
              "        buttonEl.style.display =\n",
              "          google.colab.kernel.accessAllowed ? 'block' : 'none';\n",
              "\n",
              "        async function convertToInteractive(key) {\n",
              "          const element = document.querySelector('#df-b80df6a2-19fa-471c-a229-1db2452b6396');\n",
              "          const dataTable =\n",
              "            await google.colab.kernel.invokeFunction('convertToInteractive',\n",
              "                                                     [key], {});\n",
              "          if (!dataTable) return;\n",
              "\n",
              "          const docLinkHtml = 'Like what you see? Visit the ' +\n",
              "            '<a target=\"_blank\" href=https://colab.research.google.com/notebooks/data_table.ipynb>data table notebook</a>'\n",
              "            + ' to learn more about interactive tables.';\n",
              "          element.innerHTML = '';\n",
              "          dataTable['output_type'] = 'display_data';\n",
              "          await google.colab.output.renderOutput(dataTable, element);\n",
              "          const docLink = document.createElement('div');\n",
              "          docLink.innerHTML = docLinkHtml;\n",
              "          element.appendChild(docLink);\n",
              "        }\n",
              "      </script>\n",
              "    </div>\n",
              "  </div>\n",
              "  "
            ]
          },
          "metadata": {},
          "execution_count": 3
        }
      ]
    },
    {
      "cell_type": "code",
      "source": [
        "#Target dari dataset TravelInsurancePrediction.csv\n",
        "target = 'TravelInsurance'"
      ],
      "metadata": {
        "id": "v0dJ6kOgVK4v"
      },
      "execution_count": null,
      "outputs": []
    },
    {
      "cell_type": "code",
      "source": [
        "#Pengelompokan kolom berdasarkan tipe datanya\n",
        "cats = ['Employment Type', 'GraduateOrNot', 'FrequentFlyer', 'EverTravelledAbroad', 'ChronicDiseases', 'TravelInsurance']\n",
        "nums = ['Unnamed: 0', 'Age', 'AnnualIncome', 'FamilyMembers']"
      ],
      "metadata": {
        "id": "4bva3GSBBLgT"
      },
      "execution_count": null,
      "outputs": []
    },
    {
      "cell_type": "code",
      "source": [
        "#Cek deskripsi statistika untuk tipe data numeric\n",
        "df[nums].describe()"
      ],
      "metadata": {
        "colab": {
          "base_uri": "https://localhost:8080/",
          "height": 300
        },
        "id": "fbap27ygBQBX",
        "outputId": "6de80703-b64d-49b0-c45e-954a602c5c87"
      },
      "execution_count": null,
      "outputs": [
        {
          "output_type": "execute_result",
          "data": {
            "text/plain": [
              "        Unnamed: 0          Age  AnnualIncome  FamilyMembers\n",
              "count  1987.000000  1987.000000  1.987000e+03    1987.000000\n",
              "mean    993.000000    29.650226  9.327630e+05       4.752894\n",
              "std     573.741812     2.913308  3.768557e+05       1.609650\n",
              "min       0.000000    25.000000  3.000000e+05       2.000000\n",
              "25%     496.500000    28.000000  6.000000e+05       4.000000\n",
              "50%     993.000000    29.000000  9.000000e+05       5.000000\n",
              "75%    1489.500000    32.000000  1.250000e+06       6.000000\n",
              "max    1986.000000    35.000000  1.800000e+06       9.000000"
            ],
            "text/html": [
              "\n",
              "  <div id=\"df-06e2257a-aa9c-45af-b1a5-596b9bd96a81\">\n",
              "    <div class=\"colab-df-container\">\n",
              "      <div>\n",
              "<style scoped>\n",
              "    .dataframe tbody tr th:only-of-type {\n",
              "        vertical-align: middle;\n",
              "    }\n",
              "\n",
              "    .dataframe tbody tr th {\n",
              "        vertical-align: top;\n",
              "    }\n",
              "\n",
              "    .dataframe thead th {\n",
              "        text-align: right;\n",
              "    }\n",
              "</style>\n",
              "<table border=\"1\" class=\"dataframe\">\n",
              "  <thead>\n",
              "    <tr style=\"text-align: right;\">\n",
              "      <th></th>\n",
              "      <th>Unnamed: 0</th>\n",
              "      <th>Age</th>\n",
              "      <th>AnnualIncome</th>\n",
              "      <th>FamilyMembers</th>\n",
              "    </tr>\n",
              "  </thead>\n",
              "  <tbody>\n",
              "    <tr>\n",
              "      <th>count</th>\n",
              "      <td>1987.000000</td>\n",
              "      <td>1987.000000</td>\n",
              "      <td>1.987000e+03</td>\n",
              "      <td>1987.000000</td>\n",
              "    </tr>\n",
              "    <tr>\n",
              "      <th>mean</th>\n",
              "      <td>993.000000</td>\n",
              "      <td>29.650226</td>\n",
              "      <td>9.327630e+05</td>\n",
              "      <td>4.752894</td>\n",
              "    </tr>\n",
              "    <tr>\n",
              "      <th>std</th>\n",
              "      <td>573.741812</td>\n",
              "      <td>2.913308</td>\n",
              "      <td>3.768557e+05</td>\n",
              "      <td>1.609650</td>\n",
              "    </tr>\n",
              "    <tr>\n",
              "      <th>min</th>\n",
              "      <td>0.000000</td>\n",
              "      <td>25.000000</td>\n",
              "      <td>3.000000e+05</td>\n",
              "      <td>2.000000</td>\n",
              "    </tr>\n",
              "    <tr>\n",
              "      <th>25%</th>\n",
              "      <td>496.500000</td>\n",
              "      <td>28.000000</td>\n",
              "      <td>6.000000e+05</td>\n",
              "      <td>4.000000</td>\n",
              "    </tr>\n",
              "    <tr>\n",
              "      <th>50%</th>\n",
              "      <td>993.000000</td>\n",
              "      <td>29.000000</td>\n",
              "      <td>9.000000e+05</td>\n",
              "      <td>5.000000</td>\n",
              "    </tr>\n",
              "    <tr>\n",
              "      <th>75%</th>\n",
              "      <td>1489.500000</td>\n",
              "      <td>32.000000</td>\n",
              "      <td>1.250000e+06</td>\n",
              "      <td>6.000000</td>\n",
              "    </tr>\n",
              "    <tr>\n",
              "      <th>max</th>\n",
              "      <td>1986.000000</td>\n",
              "      <td>35.000000</td>\n",
              "      <td>1.800000e+06</td>\n",
              "      <td>9.000000</td>\n",
              "    </tr>\n",
              "  </tbody>\n",
              "</table>\n",
              "</div>\n",
              "      <button class=\"colab-df-convert\" onclick=\"convertToInteractive('df-06e2257a-aa9c-45af-b1a5-596b9bd96a81')\"\n",
              "              title=\"Convert this dataframe to an interactive table.\"\n",
              "              style=\"display:none;\">\n",
              "        \n",
              "  <svg xmlns=\"http://www.w3.org/2000/svg\" height=\"24px\"viewBox=\"0 0 24 24\"\n",
              "       width=\"24px\">\n",
              "    <path d=\"M0 0h24v24H0V0z\" fill=\"none\"/>\n",
              "    <path d=\"M18.56 5.44l.94 2.06.94-2.06 2.06-.94-2.06-.94-.94-2.06-.94 2.06-2.06.94zm-11 1L8.5 8.5l.94-2.06 2.06-.94-2.06-.94L8.5 2.5l-.94 2.06-2.06.94zm10 10l.94 2.06.94-2.06 2.06-.94-2.06-.94-.94-2.06-.94 2.06-2.06.94z\"/><path d=\"M17.41 7.96l-1.37-1.37c-.4-.4-.92-.59-1.43-.59-.52 0-1.04.2-1.43.59L10.3 9.45l-7.72 7.72c-.78.78-.78 2.05 0 2.83L4 21.41c.39.39.9.59 1.41.59.51 0 1.02-.2 1.41-.59l7.78-7.78 2.81-2.81c.8-.78.8-2.07 0-2.86zM5.41 20L4 18.59l7.72-7.72 1.47 1.35L5.41 20z\"/>\n",
              "  </svg>\n",
              "      </button>\n",
              "      \n",
              "  <style>\n",
              "    .colab-df-container {\n",
              "      display:flex;\n",
              "      flex-wrap:wrap;\n",
              "      gap: 12px;\n",
              "    }\n",
              "\n",
              "    .colab-df-convert {\n",
              "      background-color: #E8F0FE;\n",
              "      border: none;\n",
              "      border-radius: 50%;\n",
              "      cursor: pointer;\n",
              "      display: none;\n",
              "      fill: #1967D2;\n",
              "      height: 32px;\n",
              "      padding: 0 0 0 0;\n",
              "      width: 32px;\n",
              "    }\n",
              "\n",
              "    .colab-df-convert:hover {\n",
              "      background-color: #E2EBFA;\n",
              "      box-shadow: 0px 1px 2px rgba(60, 64, 67, 0.3), 0px 1px 3px 1px rgba(60, 64, 67, 0.15);\n",
              "      fill: #174EA6;\n",
              "    }\n",
              "\n",
              "    [theme=dark] .colab-df-convert {\n",
              "      background-color: #3B4455;\n",
              "      fill: #D2E3FC;\n",
              "    }\n",
              "\n",
              "    [theme=dark] .colab-df-convert:hover {\n",
              "      background-color: #434B5C;\n",
              "      box-shadow: 0px 1px 3px 1px rgba(0, 0, 0, 0.15);\n",
              "      filter: drop-shadow(0px 1px 2px rgba(0, 0, 0, 0.3));\n",
              "      fill: #FFFFFF;\n",
              "    }\n",
              "  </style>\n",
              "\n",
              "      <script>\n",
              "        const buttonEl =\n",
              "          document.querySelector('#df-06e2257a-aa9c-45af-b1a5-596b9bd96a81 button.colab-df-convert');\n",
              "        buttonEl.style.display =\n",
              "          google.colab.kernel.accessAllowed ? 'block' : 'none';\n",
              "\n",
              "        async function convertToInteractive(key) {\n",
              "          const element = document.querySelector('#df-06e2257a-aa9c-45af-b1a5-596b9bd96a81');\n",
              "          const dataTable =\n",
              "            await google.colab.kernel.invokeFunction('convertToInteractive',\n",
              "                                                     [key], {});\n",
              "          if (!dataTable) return;\n",
              "\n",
              "          const docLinkHtml = 'Like what you see? Visit the ' +\n",
              "            '<a target=\"_blank\" href=https://colab.research.google.com/notebooks/data_table.ipynb>data table notebook</a>'\n",
              "            + ' to learn more about interactive tables.';\n",
              "          element.innerHTML = '';\n",
              "          dataTable['output_type'] = 'display_data';\n",
              "          await google.colab.output.renderOutput(dataTable, element);\n",
              "          const docLink = document.createElement('div');\n",
              "          docLink.innerHTML = docLinkHtml;\n",
              "          element.appendChild(docLink);\n",
              "        }\n",
              "      </script>\n",
              "    </div>\n",
              "  </div>\n",
              "  "
            ]
          },
          "metadata": {},
          "execution_count": 6
        }
      ]
    },
    {
      "cell_type": "markdown",
      "source": [
        "Kolom **`Unnamed: 0`**  memiliki jumlah unique values yang tinggi (1987). Tampaknya kita perlu exclude fitur ini dari dataset untuk pemodelan."
      ],
      "metadata": {
        "id": "-JaiTsC2dczU"
      }
    },
    {
      "cell_type": "code",
      "source": [
        "#Cek deskripsi statistika untuk tipe data kategorik\n",
        "df[cats].describe(include=\"object\")"
      ],
      "metadata": {
        "colab": {
          "base_uri": "https://localhost:8080/",
          "height": 174
        },
        "id": "_YheLxeHBTrG",
        "outputId": "c6a482f7-11f2-4901-bb8d-e1d632819178"
      },
      "execution_count": null,
      "outputs": [
        {
          "output_type": "execute_result",
          "data": {
            "text/plain": [
              "                     Employment Type GraduateOrNot FrequentFlyer  \\\n",
              "count                           1987          1987          1987   \n",
              "unique                             2             2             2   \n",
              "top     Private Sector/Self Employed           Yes            No   \n",
              "freq                            1417          1692          1570   \n",
              "\n",
              "       EverTravelledAbroad  \n",
              "count                 1987  \n",
              "unique                   2  \n",
              "top                     No  \n",
              "freq                  1607  "
            ],
            "text/html": [
              "\n",
              "  <div id=\"df-ff53b228-b968-434b-8c2d-ee9098f90dd4\">\n",
              "    <div class=\"colab-df-container\">\n",
              "      <div>\n",
              "<style scoped>\n",
              "    .dataframe tbody tr th:only-of-type {\n",
              "        vertical-align: middle;\n",
              "    }\n",
              "\n",
              "    .dataframe tbody tr th {\n",
              "        vertical-align: top;\n",
              "    }\n",
              "\n",
              "    .dataframe thead th {\n",
              "        text-align: right;\n",
              "    }\n",
              "</style>\n",
              "<table border=\"1\" class=\"dataframe\">\n",
              "  <thead>\n",
              "    <tr style=\"text-align: right;\">\n",
              "      <th></th>\n",
              "      <th>Employment Type</th>\n",
              "      <th>GraduateOrNot</th>\n",
              "      <th>FrequentFlyer</th>\n",
              "      <th>EverTravelledAbroad</th>\n",
              "    </tr>\n",
              "  </thead>\n",
              "  <tbody>\n",
              "    <tr>\n",
              "      <th>count</th>\n",
              "      <td>1987</td>\n",
              "      <td>1987</td>\n",
              "      <td>1987</td>\n",
              "      <td>1987</td>\n",
              "    </tr>\n",
              "    <tr>\n",
              "      <th>unique</th>\n",
              "      <td>2</td>\n",
              "      <td>2</td>\n",
              "      <td>2</td>\n",
              "      <td>2</td>\n",
              "    </tr>\n",
              "    <tr>\n",
              "      <th>top</th>\n",
              "      <td>Private Sector/Self Employed</td>\n",
              "      <td>Yes</td>\n",
              "      <td>No</td>\n",
              "      <td>No</td>\n",
              "    </tr>\n",
              "    <tr>\n",
              "      <th>freq</th>\n",
              "      <td>1417</td>\n",
              "      <td>1692</td>\n",
              "      <td>1570</td>\n",
              "      <td>1607</td>\n",
              "    </tr>\n",
              "  </tbody>\n",
              "</table>\n",
              "</div>\n",
              "      <button class=\"colab-df-convert\" onclick=\"convertToInteractive('df-ff53b228-b968-434b-8c2d-ee9098f90dd4')\"\n",
              "              title=\"Convert this dataframe to an interactive table.\"\n",
              "              style=\"display:none;\">\n",
              "        \n",
              "  <svg xmlns=\"http://www.w3.org/2000/svg\" height=\"24px\"viewBox=\"0 0 24 24\"\n",
              "       width=\"24px\">\n",
              "    <path d=\"M0 0h24v24H0V0z\" fill=\"none\"/>\n",
              "    <path d=\"M18.56 5.44l.94 2.06.94-2.06 2.06-.94-2.06-.94-.94-2.06-.94 2.06-2.06.94zm-11 1L8.5 8.5l.94-2.06 2.06-.94-2.06-.94L8.5 2.5l-.94 2.06-2.06.94zm10 10l.94 2.06.94-2.06 2.06-.94-2.06-.94-.94-2.06-.94 2.06-2.06.94z\"/><path d=\"M17.41 7.96l-1.37-1.37c-.4-.4-.92-.59-1.43-.59-.52 0-1.04.2-1.43.59L10.3 9.45l-7.72 7.72c-.78.78-.78 2.05 0 2.83L4 21.41c.39.39.9.59 1.41.59.51 0 1.02-.2 1.41-.59l7.78-7.78 2.81-2.81c.8-.78.8-2.07 0-2.86zM5.41 20L4 18.59l7.72-7.72 1.47 1.35L5.41 20z\"/>\n",
              "  </svg>\n",
              "      </button>\n",
              "      \n",
              "  <style>\n",
              "    .colab-df-container {\n",
              "      display:flex;\n",
              "      flex-wrap:wrap;\n",
              "      gap: 12px;\n",
              "    }\n",
              "\n",
              "    .colab-df-convert {\n",
              "      background-color: #E8F0FE;\n",
              "      border: none;\n",
              "      border-radius: 50%;\n",
              "      cursor: pointer;\n",
              "      display: none;\n",
              "      fill: #1967D2;\n",
              "      height: 32px;\n",
              "      padding: 0 0 0 0;\n",
              "      width: 32px;\n",
              "    }\n",
              "\n",
              "    .colab-df-convert:hover {\n",
              "      background-color: #E2EBFA;\n",
              "      box-shadow: 0px 1px 2px rgba(60, 64, 67, 0.3), 0px 1px 3px 1px rgba(60, 64, 67, 0.15);\n",
              "      fill: #174EA6;\n",
              "    }\n",
              "\n",
              "    [theme=dark] .colab-df-convert {\n",
              "      background-color: #3B4455;\n",
              "      fill: #D2E3FC;\n",
              "    }\n",
              "\n",
              "    [theme=dark] .colab-df-convert:hover {\n",
              "      background-color: #434B5C;\n",
              "      box-shadow: 0px 1px 3px 1px rgba(0, 0, 0, 0.15);\n",
              "      filter: drop-shadow(0px 1px 2px rgba(0, 0, 0, 0.3));\n",
              "      fill: #FFFFFF;\n",
              "    }\n",
              "  </style>\n",
              "\n",
              "      <script>\n",
              "        const buttonEl =\n",
              "          document.querySelector('#df-ff53b228-b968-434b-8c2d-ee9098f90dd4 button.colab-df-convert');\n",
              "        buttonEl.style.display =\n",
              "          google.colab.kernel.accessAllowed ? 'block' : 'none';\n",
              "\n",
              "        async function convertToInteractive(key) {\n",
              "          const element = document.querySelector('#df-ff53b228-b968-434b-8c2d-ee9098f90dd4');\n",
              "          const dataTable =\n",
              "            await google.colab.kernel.invokeFunction('convertToInteractive',\n",
              "                                                     [key], {});\n",
              "          if (!dataTable) return;\n",
              "\n",
              "          const docLinkHtml = 'Like what you see? Visit the ' +\n",
              "            '<a target=\"_blank\" href=https://colab.research.google.com/notebooks/data_table.ipynb>data table notebook</a>'\n",
              "            + ' to learn more about interactive tables.';\n",
              "          element.innerHTML = '';\n",
              "          dataTable['output_type'] = 'display_data';\n",
              "          await google.colab.output.renderOutput(dataTable, element);\n",
              "          const docLink = document.createElement('div');\n",
              "          docLink.innerHTML = docLinkHtml;\n",
              "          element.appendChild(docLink);\n",
              "        }\n",
              "      </script>\n",
              "    </div>\n",
              "  </div>\n",
              "  "
            ]
          },
          "metadata": {},
          "execution_count": 7
        }
      ]
    },
    {
      "cell_type": "code",
      "source": [
        "#Cek nunique untuk masing-masing tipe data dalam dataset\n",
        "\n",
        "for i in df.columns:\n",
        "  print(df[i].unique())"
      ],
      "metadata": {
        "colab": {
          "base_uri": "https://localhost:8080/"
        },
        "id": "ubrA5P2PRX6t",
        "outputId": "ccc4fefa-e9ab-4fc7-b47c-f2fe59a5a60d"
      },
      "execution_count": null,
      "outputs": [
        {
          "output_type": "stream",
          "name": "stdout",
          "text": [
            "[   0    1    2 ... 1984 1985 1986]\n",
            "[31 34 28 25 33 26 32 29 35 30 27]\n",
            "['Government Sector' 'Private Sector/Self Employed']\n",
            "['Yes' 'No']\n",
            "[ 400000 1250000  500000  700000 1150000 1300000 1350000 1450000  800000\n",
            " 1400000  850000 1500000 1050000  350000 1100000  600000  900000  550000\n",
            "  300000  750000 1200000 1000000  950000 1700000 1750000  650000  450000\n",
            " 1650000 1800000 1550000]\n",
            "[6 7 4 3 8 9 5 2]\n",
            "[1 0]\n",
            "['No' 'Yes']\n",
            "['No' 'Yes']\n",
            "[0 1]\n"
          ]
        }
      ]
    },
    {
      "cell_type": "markdown",
      "source": [
        "### 1.a. Handle Missing Values"
      ],
      "metadata": {
        "id": "leLr1RjVkuTC"
      }
    },
    {
      "cell_type": "code",
      "source": [
        "#Identifikasi missing value\n",
        "df.info()"
      ],
      "metadata": {
        "colab": {
          "base_uri": "https://localhost:8080/"
        },
        "id": "1ITAa_PvsMrG",
        "outputId": "51b1f625-13f1-41c3-d31d-3943eaea5be6"
      },
      "execution_count": null,
      "outputs": [
        {
          "output_type": "stream",
          "name": "stdout",
          "text": [
            "<class 'pandas.core.frame.DataFrame'>\n",
            "RangeIndex: 1987 entries, 0 to 1986\n",
            "Data columns (total 10 columns):\n",
            " #   Column               Non-Null Count  Dtype \n",
            "---  ------               --------------  ----- \n",
            " 0   Unnamed: 0           1987 non-null   int64 \n",
            " 1   Age                  1987 non-null   int64 \n",
            " 2   Employment Type      1987 non-null   object\n",
            " 3   GraduateOrNot        1987 non-null   object\n",
            " 4   AnnualIncome         1987 non-null   int64 \n",
            " 5   FamilyMembers        1987 non-null   int64 \n",
            " 6   ChronicDiseases      1987 non-null   int64 \n",
            " 7   FrequentFlyer        1987 non-null   object\n",
            " 8   EverTravelledAbroad  1987 non-null   object\n",
            " 9   TravelInsurance      1987 non-null   int64 \n",
            "dtypes: int64(6), object(4)\n",
            "memory usage: 155.4+ KB\n"
          ]
        }
      ]
    },
    {
      "cell_type": "markdown",
      "source": [
        "Pengamatan :\n",
        "\n",
        "1. Data terdiri dari 1987 baris.\n",
        "2. Tidak ada data yang memiliki nilai null/missing value (Non-Null Count = jumlah baris).\n",
        "3. Kolom **`CronicDiseases`** memiliki value yang bersifat kategorikal namun bertipe integer."
      ],
      "metadata": {
        "id": "jNvzUrPC-Rmk"
      }
    },
    {
      "cell_type": "code",
      "source": [
        "#Identifikasi data null\n",
        "df.isna().sum()"
      ],
      "metadata": {
        "colab": {
          "base_uri": "https://localhost:8080/"
        },
        "id": "1Al5X8nC-6EG",
        "outputId": "31f490ec-d24c-46b7-9fbd-ff3a2c407b4f"
      },
      "execution_count": null,
      "outputs": [
        {
          "output_type": "execute_result",
          "data": {
            "text/plain": [
              "Unnamed: 0             0\n",
              "Age                    0\n",
              "Employment Type        0\n",
              "GraduateOrNot          0\n",
              "AnnualIncome           0\n",
              "FamilyMembers          0\n",
              "ChronicDiseases        0\n",
              "FrequentFlyer          0\n",
              "EverTravelledAbroad    0\n",
              "TravelInsurance        0\n",
              "dtype: int64"
            ]
          },
          "metadata": {},
          "execution_count": 10
        }
      ]
    },
    {
      "cell_type": "markdown",
      "source": [
        "Tidak terdapat nilai yang hilang atau tidak lengkap dalam dataset ini, sehingga tidak perlu dilakukan imputation."
      ],
      "metadata": {
        "id": "Z52yV3gB--Vx"
      }
    },
    {
      "cell_type": "markdown",
      "source": [
        "### 1.b. Handle Duplicated Data"
      ],
      "metadata": {
        "id": "V75JO8XSkzDi"
      }
    },
    {
      "cell_type": "code",
      "source": [
        "#Identifikasi data duplikat\n",
        "df.duplicated().sum()"
      ],
      "metadata": {
        "id": "AXSBJTXZk3df",
        "colab": {
          "base_uri": "https://localhost:8080/"
        },
        "outputId": "7af88266-3aac-4586-f239-aee3e2f45b82"
      },
      "execution_count": null,
      "outputs": [
        {
          "output_type": "execute_result",
          "data": {
            "text/plain": [
              "0"
            ]
          },
          "metadata": {},
          "execution_count": 11
        }
      ]
    },
    {
      "cell_type": "code",
      "source": [
        "df.duplicated().any()"
      ],
      "metadata": {
        "colab": {
          "base_uri": "https://localhost:8080/"
        },
        "id": "xSX7uX0HOQuE",
        "outputId": "5e62eb78-4713-4d79-92e7-ac1c1e049e1b"
      },
      "execution_count": null,
      "outputs": [
        {
          "output_type": "execute_result",
          "data": {
            "text/plain": [
              "False"
            ]
          },
          "metadata": {},
          "execution_count": 12
        }
      ]
    },
    {
      "cell_type": "markdown",
      "source": [
        "Tidak terdapat nilai yang duplikat dalam dataset ini."
      ],
      "metadata": {
        "id": "itoXWJlmOTLB"
      }
    },
    {
      "cell_type": "markdown",
      "source": [
        "### 1.c. Handle Outliers"
      ],
      "metadata": {
        "id": "mjHvqeBqk4KI"
      }
    },
    {
      "cell_type": "code",
      "source": [
        "#Box plot untuk melihat outliers\n",
        "for i in range(0, len(nums)):\n",
        "    plt.subplot(1, len(nums), i+1)\n",
        "    sns.boxplot(y = df[nums[i]], color = '#8967A1', orient = 'v')\n",
        "    plt.tight_layout()"
      ],
      "metadata": {
        "colab": {
          "base_uri": "https://localhost:8080/",
          "height": 297
        },
        "id": "4SO_AM4GBjjS",
        "outputId": "e9788602-bc77-46ae-acbf-81975394cb8a"
      },
      "execution_count": null,
      "outputs": [
        {
          "output_type": "display_data",
          "data": {
            "text/plain": [
              "<Figure size 432x288 with 4 Axes>"
            ],
            "image/png": "[encoded data removed]"
          },
          "metadata": {
            "needs_background": "light"
          }
        }
      ]
    },
    {
      "cell_type": "code",
      "source": [
        "#Deteksi outlier menggunakan IQR dan menghapus data yang dianggap sebagai outlier\n",
        "print('Deteksi outlier menggunakan IQR =')\n",
        "print(f'Jumlah baris sebelum memfilter outlier: {len(df)}')\n",
        "filtered_entries = np.array([True] * len(df))\n",
        "for col in nums:\n",
        "    Q1 = df[col].quantile(0.25)\n",
        "    Q3 = df[col].quantile(0.75)\n",
        "    IQR = Q3 - Q1\n",
        "    low_limit = Q1 - (IQR * 1.5)\n",
        "    high_limit = Q3 + (IQR * 1.5)\n",
        "\n",
        "    filtered_entries = ((df[col] >= low_limit) & (df[col] <= high_limit)) & filtered_entries\n",
        "    \n",
        "df = df[filtered_entries]\n",
        "\n",
        "print(f'Jumlah baris setelah memfilter outlier: {len(df)}')"
      ],
      "metadata": {
        "colab": {
          "base_uri": "https://localhost:8080/"
        },
        "id": "JJEl5Y2RBCgJ",
        "outputId": "b72f9a5a-725d-482e-b5e3-3e5f63989063"
      },
      "execution_count": null,
      "outputs": [
        {
          "output_type": "stream",
          "name": "stdout",
          "text": [
            "Deteksi outlier menggunakan IQR =\n",
            "Jumlah baris sebelum memfilter outlier: 1987\n",
            "Jumlah baris setelah memfilter outlier: 1987\n"
          ]
        }
      ]
    },
    {
      "cell_type": "code",
      "source": [
        "#Deteksi outlier menggunakan z-score dan menghapus data yang dianggap sebagai outlier\n",
        "print('Deteksi outlier menggunakan z-score =')\n",
        "print(f'Jumlah baris sebelum memfilter outlier: {len(df)}')\n",
        "filtered_entries = np.array([True] * len(df))\n",
        "for col in nums:\n",
        "    zscore = abs(stats.zscore(df[col])) # hitung absolute z-scorenya\n",
        "    filtered_entries = (zscore < 3) & filtered_entries # keep yang kurang dari 3 absolute z-scorenya\n",
        "df = df[filtered_entries] # filter, cuma ambil yang z-scorenya dibawah 3\n",
        "print(f'Jumlah baris setelah memfilter outlier: {len(df)}')"
      ],
      "metadata": {
        "id": "XGVIXKktcb99",
        "colab": {
          "base_uri": "https://localhost:8080/"
        },
        "outputId": "f6346d14-d0fb-48cd-b4db-74a3645ef38d"
      },
      "execution_count": null,
      "outputs": [
        {
          "output_type": "stream",
          "name": "stdout",
          "text": [
            "Deteksi outlier menggunakan z-score =\n",
            "Jumlah baris sebelum memfilter outlier: 1987\n",
            "Jumlah baris setelah memfilter outlier: 1987\n"
          ]
        }
      ]
    },
    {
      "cell_type": "markdown",
      "source": [
        "Tidak terdapat nilai outliers pada dataset ini, sehingga jumlah baris sebelum dan setelah  difilter tetap sama yaitu 1987."
      ],
      "metadata": {
        "id": "LGPFG9PnBfdv"
      }
    },
    {
      "cell_type": "markdown",
      "source": [
        "### 1.d. Feature Transformation"
      ],
      "metadata": {
        "id": "G08z08-Sk9FK"
      }
    },
    {
      "cell_type": "markdown",
      "source": [
        "- Mengubah tipe data kolom **`CronicDiseases`**"
      ],
      "metadata": {
        "id": "JlXVM8oVcN1g"
      }
    },
    {
      "cell_type": "code",
      "execution_count": null,
      "metadata": {
        "id": "1ecd7174",
        "outputId": "7e06719b-2a85-4e64-924c-2fc5ba7163bb",
        "colab": {
          "base_uri": "https://localhost:8080/"
        }
      },
      "outputs": [
        {
          "output_type": "stream",
          "name": "stdout",
          "text": [
            "Tipe data kolom 'ChronicDiseases' sebelum diubah = int64\n",
            "Tipe data kolom 'ChronicDiseases' setelah diubah = object\n"
          ]
        }
      ],
      "source": [
        "#Menampilkan tipe data kolom 'ChronicDiseases' sebelum diubah\n",
        "print(\"Tipe data kolom 'ChronicDiseases' sebelum diubah =\", df['ChronicDiseases'].dtypes)\n",
        "\n",
        "#Mengubah tipe data kolom 'ChronicDiseases' menjadi object\n",
        "df['ChronicDiseases'] = df['ChronicDiseases'].astype('object')\n",
        "\n",
        "#Menampilkan tipe data kolom 'ChronicDiseases' setelah diubah\n",
        "print(\"Tipe data kolom 'ChronicDiseases' setelah diubah =\", df['ChronicDiseases'].dtypes)"
      ]
    },
    {
      "cell_type": "code",
      "execution_count": null,
      "metadata": {
        "id": "577fdba7",
        "outputId": "22642a36-e1f9-4f56-ece5-937ececf9b0c",
        "colab": {
          "base_uri": "https://localhost:8080/"
        }
      },
      "outputs": [
        {
          "output_type": "stream",
          "name": "stdout",
          "text": [
            "<class 'pandas.core.frame.DataFrame'>\n",
            "Int64Index: 1987 entries, 0 to 1986\n",
            "Data columns (total 10 columns):\n",
            " #   Column               Non-Null Count  Dtype \n",
            "---  ------               --------------  ----- \n",
            " 0   Unnamed: 0           1987 non-null   int64 \n",
            " 1   Age                  1987 non-null   int64 \n",
            " 2   Employment Type      1987 non-null   object\n",
            " 3   GraduateOrNot        1987 non-null   object\n",
            " 4   AnnualIncome         1987 non-null   int64 \n",
            " 5   FamilyMembers        1987 non-null   int64 \n",
            " 6   ChronicDiseases      1987 non-null   object\n",
            " 7   FrequentFlyer        1987 non-null   object\n",
            " 8   EverTravelledAbroad  1987 non-null   object\n",
            " 9   TravelInsurance      1987 non-null   int64 \n",
            "dtypes: int64(5), object(5)\n",
            "memory usage: 170.8+ KB\n"
          ]
        }
      ],
      "source": [
        "#Cek kembali tipe data 'CronicDiseases' setelah diubah\n",
        "df.info()"
      ]
    },
    {
      "cell_type": "markdown",
      "source": [
        "- Melakukan Scalling pada Kolom **`AnnualIncome`**"
      ],
      "metadata": {
        "id": "_npc7DMcGt_0"
      }
    },
    {
      "cell_type": "code",
      "source": [
        "#Inisialisasi objek scaler\n",
        "scaler = MinMaxScaler()\n",
        "\n",
        "#Penskalaan kolom 'AnnualIncome'\n",
        "df['AnnualIncome_scaled'] = scaler.fit_transform(df[['AnnualIncome']])\n",
        "\n",
        "#Hapus kolom AnnualIncome asli\n",
        "#df.drop(['AnnualIncome'], axis=1, inplace=True)\n",
        "\n",
        "#Cetak data\n",
        "df.head()"
      ],
      "metadata": {
        "colab": {
          "base_uri": "https://localhost:8080/",
          "height": 423
        },
        "id": "hAvq4cMjGqH0",
        "outputId": "a177c8f8-33d3-4c7c-f110-4a45c7e13384"
      },
      "execution_count": null,
      "outputs": [
        {
          "output_type": "execute_result",
          "data": {
            "text/plain": [
              "   Unnamed: 0  Age               Employment Type GraduateOrNot  AnnualIncome  \\\n",
              "0           0   31             Government Sector           Yes        400000   \n",
              "1           1   31  Private Sector/Self Employed           Yes       1250000   \n",
              "2           2   34  Private Sector/Self Employed           Yes        500000   \n",
              "3           3   28  Private Sector/Self Employed           Yes        700000   \n",
              "4           4   28  Private Sector/Self Employed           Yes        700000   \n",
              "\n",
              "   FamilyMembers ChronicDiseases FrequentFlyer EverTravelledAbroad  \\\n",
              "0              6               1            No                  No   \n",
              "1              7               0            No                  No   \n",
              "2              4               1            No                  No   \n",
              "3              3               1            No                  No   \n",
              "4              8               1           Yes                  No   \n",
              "\n",
              "   TravelInsurance  AnnualIncome_scaled  \n",
              "0                0             0.066667  \n",
              "1                0             0.633333  \n",
              "2                1             0.133333  \n",
              "3                0             0.266667  \n",
              "4                0             0.266667  "
            ],
            "text/html": [
              "\n",
              "  <div id=\"df-86015780-3186-4e56-9393-7b6b7674ebfc\">\n",
              "    <div class=\"colab-df-container\">\n",
              "      <div>\n",
              "<style scoped>\n",
              "    .dataframe tbody tr th:only-of-type {\n",
              "        vertical-align: middle;\n",
              "    }\n",
              "\n",
              "    .dataframe tbody tr th {\n",
              "        vertical-align: top;\n",
              "    }\n",
              "\n",
              "    .dataframe thead th {\n",
              "        text-align: right;\n",
              "    }\n",
              "</style>\n",
              "<table border=\"1\" class=\"dataframe\">\n",
              "  <thead>\n",
              "    <tr style=\"text-align: right;\">\n",
              "      <th></th>\n",
              "      <th>Unnamed: 0</th>\n",
              "      <th>Age</th>\n",
              "      <th>Employment Type</th>\n",
              "      <th>GraduateOrNot</th>\n",
              "      <th>AnnualIncome</th>\n",
              "      <th>FamilyMembers</th>\n",
              "      <th>ChronicDiseases</th>\n",
              "      <th>FrequentFlyer</th>\n",
              "      <th>EverTravelledAbroad</th>\n",
              "      <th>TravelInsurance</th>\n",
              "      <th>AnnualIncome_scaled</th>\n",
              "    </tr>\n",
              "  </thead>\n",
              "  <tbody>\n",
              "    <tr>\n",
              "      <th>0</th>\n",
              "      <td>0</td>\n",
              "      <td>31</td>\n",
              "      <td>Government Sector</td>\n",
              "      <td>Yes</td>\n",
              "      <td>400000</td>\n",
              "      <td>6</td>\n",
              "      <td>1</td>\n",
              "      <td>No</td>\n",
              "      <td>No</td>\n",
              "      <td>0</td>\n",
              "      <td>0.066667</td>\n",
              "    </tr>\n",
              "    <tr>\n",
              "      <th>1</th>\n",
              "      <td>1</td>\n",
              "      <td>31</td>\n",
              "      <td>Private Sector/Self Employed</td>\n",
              "      <td>Yes</td>\n",
              "      <td>1250000</td>\n",
              "      <td>7</td>\n",
              "      <td>0</td>\n",
              "      <td>No</td>\n",
              "      <td>No</td>\n",
              "      <td>0</td>\n",
              "      <td>0.633333</td>\n",
              "    </tr>\n",
              "    <tr>\n",
              "      <th>2</th>\n",
              "      <td>2</td>\n",
              "      <td>34</td>\n",
              "      <td>Private Sector/Self Employed</td>\n",
              "      <td>Yes</td>\n",
              "      <td>500000</td>\n",
              "      <td>4</td>\n",
              "      <td>1</td>\n",
              "      <td>No</td>\n",
              "      <td>No</td>\n",
              "      <td>1</td>\n",
              "      <td>0.133333</td>\n",
              "    </tr>\n",
              "    <tr>\n",
              "      <th>3</th>\n",
              "      <td>3</td>\n",
              "      <td>28</td>\n",
              "      <td>Private Sector/Self Employed</td>\n",
              "      <td>Yes</td>\n",
              "      <td>700000</td>\n",
              "      <td>3</td>\n",
              "      <td>1</td>\n",
              "      <td>No</td>\n",
              "      <td>No</td>\n",
              "      <td>0</td>\n",
              "      <td>0.266667</td>\n",
              "    </tr>\n",
              "    <tr>\n",
              "      <th>4</th>\n",
              "      <td>4</td>\n",
              "      <td>28</td>\n",
              "      <td>Private Sector/Self Employed</td>\n",
              "      <td>Yes</td>\n",
              "      <td>700000</td>\n",
              "      <td>8</td>\n",
              "      <td>1</td>\n",
              "      <td>Yes</td>\n",
              "      <td>No</td>\n",
              "      <td>0</td>\n",
              "      <td>0.266667</td>\n",
              "    </tr>\n",
              "  </tbody>\n",
              "</table>\n",
              "</div>\n",
              "      <button class=\"colab-df-convert\" onclick=\"convertToInteractive('df-86015780-3186-4e56-9393-7b6b7674ebfc')\"\n",
              "              title=\"Convert this dataframe to an interactive table.\"\n",
              "              style=\"display:none;\">\n",
              "        \n",
              "  <svg xmlns=\"http://www.w3.org/2000/svg\" height=\"24px\"viewBox=\"0 0 24 24\"\n",
              "       width=\"24px\">\n",
              "    <path d=\"M0 0h24v24H0V0z\" fill=\"none\"/>\n",
              "    <path d=\"M18.56 5.44l.94 2.06.94-2.06 2.06-.94-2.06-.94-.94-2.06-.94 2.06-2.06.94zm-11 1L8.5 8.5l.94-2.06 2.06-.94-2.06-.94L8.5 2.5l-.94 2.06-2.06.94zm10 10l.94 2.06.94-2.06 2.06-.94-2.06-.94-.94-2.06-.94 2.06-2.06.94z\"/><path d=\"M17.41 7.96l-1.37-1.37c-.4-.4-.92-.59-1.43-.59-.52 0-1.04.2-1.43.59L10.3 9.45l-7.72 7.72c-.78.78-.78 2.05 0 2.83L4 21.41c.39.39.9.59 1.41.59.51 0 1.02-.2 1.41-.59l7.78-7.78 2.81-2.81c.8-.78.8-2.07 0-2.86zM5.41 20L4 18.59l7.72-7.72 1.47 1.35L5.41 20z\"/>\n",
              "  </svg>\n",
              "      </button>\n",
              "      \n",
              "  <style>\n",
              "    .colab-df-container {\n",
              "      display:flex;\n",
              "      flex-wrap:wrap;\n",
              "      gap: 12px;\n",
              "    }\n",
              "\n",
              "    .colab-df-convert {\n",
              "      background-color: #E8F0FE;\n",
              "      border: none;\n",
              "      border-radius: 50%;\n",
              "      cursor: pointer;\n",
              "      display: none;\n",
              "      fill: #1967D2;\n",
              "      height: 32px;\n",
              "      padding: 0 0 0 0;\n",
              "      width: 32px;\n",
              "    }\n",
              "\n",
              "    .colab-df-convert:hover {\n",
              "      background-color: #E2EBFA;\n",
              "      box-shadow: 0px 1px 2px rgba(60, 64, 67, 0.3), 0px 1px 3px 1px rgba(60, 64, 67, 0.15);\n",
              "      fill: #174EA6;\n",
              "    }\n",
              "\n",
              "    [theme=dark] .colab-df-convert {\n",
              "      background-color: #3B4455;\n",
              "      fill: #D2E3FC;\n",
              "    }\n",
              "\n",
              "    [theme=dark] .colab-df-convert:hover {\n",
              "      background-color: #434B5C;\n",
              "      box-shadow: 0px 1px 3px 1px rgba(0, 0, 0, 0.15);\n",
              "      filter: drop-shadow(0px 1px 2px rgba(0, 0, 0, 0.3));\n",
              "      fill: #FFFFFF;\n",
              "    }\n",
              "  </style>\n",
              "\n",
              "      <script>\n",
              "        const buttonEl =\n",
              "          document.querySelector('#df-86015780-3186-4e56-9393-7b6b7674ebfc button.colab-df-convert');\n",
              "        buttonEl.style.display =\n",
              "          google.colab.kernel.accessAllowed ? 'block' : 'none';\n",
              "\n",
              "        async function convertToInteractive(key) {\n",
              "          const element = document.querySelector('#df-86015780-3186-4e56-9393-7b6b7674ebfc');\n",
              "          const dataTable =\n",
              "            await google.colab.kernel.invokeFunction('convertToInteractive',\n",
              "                                                     [key], {});\n",
              "          if (!dataTable) return;\n",
              "\n",
              "          const docLinkHtml = 'Like what you see? Visit the ' +\n",
              "            '<a target=\"_blank\" href=https://colab.research.google.com/notebooks/data_table.ipynb>data table notebook</a>'\n",
              "            + ' to learn more about interactive tables.';\n",
              "          element.innerHTML = '';\n",
              "          dataTable['output_type'] = 'display_data';\n",
              "          await google.colab.output.renderOutput(dataTable, element);\n",
              "          const docLink = document.createElement('div');\n",
              "          docLink.innerHTML = docLinkHtml;\n",
              "          element.appendChild(docLink);\n",
              "        }\n",
              "      </script>\n",
              "    </div>\n",
              "  </div>\n",
              "  "
            ]
          },
          "metadata": {},
          "execution_count": 18
        }
      ]
    },
    {
      "cell_type": "code",
      "source": [
        "df['AnnualIncome_scaled'].describe()"
      ],
      "metadata": {
        "colab": {
          "base_uri": "https://localhost:8080/"
        },
        "id": "IjK4WbhTGqYt",
        "outputId": "cec25590-960e-4283-8116-70a80ad114ed"
      },
      "execution_count": null,
      "outputs": [
        {
          "output_type": "execute_result",
          "data": {
            "text/plain": [
              "count    1987.000000\n",
              "mean        0.421842\n",
              "std         0.251237\n",
              "min         0.000000\n",
              "25%         0.200000\n",
              "50%         0.400000\n",
              "75%         0.633333\n",
              "max         1.000000\n",
              "Name: AnnualIncome_scaled, dtype: float64"
            ]
          },
          "metadata": {},
          "execution_count": 19
        }
      ]
    },
    {
      "cell_type": "markdown",
      "source": [
        "- Melakukan Log Transformation pada kolom **`Age`** dan **`FamilyMembers`**"
      ],
      "metadata": {
        "id": "hwZBqgJDJnnT"
      }
    },
    {
      "cell_type": "code",
      "source": [
        "#Distribusi kolom numerik\n",
        "features = nums\n",
        "plt.figure(figsize = (7, 5))\n",
        "for i in range(0, len(features)):\n",
        "    plt.subplot(2, 2, i+1) \n",
        "    sns.kdeplot(x = df[features[i]], color = '#8967A1', lw = 2)\n",
        "    plt.xlabel(features[i])\n",
        "    plt.tight_layout()"
      ],
      "metadata": {
        "colab": {
          "base_uri": "https://localhost:8080/",
          "height": 369
        },
        "id": "VcNd6DT1Jlib",
        "outputId": "2fba60e4-8ecd-48fb-b9ed-aff2022d9881"
      },
      "execution_count": null,
      "outputs": [
        {
          "output_type": "display_data",
          "data": {
            "text/plain": [
              "<Figure size 504x360 with 4 Axes>"
            ],
            "image/png": "[encoded data removed]"
          },
          "metadata": {
            "needs_background": "light"
          }
        }
      ]
    },
    {
      "cell_type": "markdown",
      "source": [
        "Pengamatan :\n",
        "\n",
        "\n",
        "*   **`AnnualIncome`** : Tampak terdistribusi normal.\n",
        "*   **`Age`** : Tampaknya skew ke kanan (long-right tail), mungkin dapat dilakukan transformasi log.\n",
        "*   **`FamilyMembers`** : Tampaknya skew ke kanan (long-right tail), mungkin dapat dilakukan transformasi log."
      ],
      "metadata": {
        "id": "04IiQNguK3_b"
      }
    },
    {
      "cell_type": "code",
      "source": [
        "#Distribusi kolom 'Age' dan kolom 'FamilyMembers' (setelah log transformation)\n",
        "fig, ax = plt.subplots(1, 2, figsize = (12, 5))\n",
        "sns.kdeplot(np.log(df['Age']), color = '#8967A1', lw = 2, ax = ax[0])\n",
        "sns.kdeplot(np.log(df['FamilyMembers']), color = '#8967A1', lw = 2, ax = ax[1])"
      ],
      "metadata": {
        "colab": {
          "base_uri": "https://localhost:8080/",
          "height": 352
        },
        "id": "guTuLxgkKM1t",
        "outputId": "53fe4886-6826-4f0b-b095-1f1e58b526e8"
      },
      "execution_count": null,
      "outputs": [
        {
          "output_type": "execute_result",
          "data": {
            "text/plain": [
              "<Axes: xlabel='FamilyMembers', ylabel='Density'>"
            ]
          },
          "metadata": {},
          "execution_count": 21
        },
        {
          "output_type": "display_data",
          "data": {
            "text/plain": [
              "<Figure size 864x360 with 2 Axes>"
            ],
            "image/png": "[encoded data removed]"
          },
          "metadata": {
            "needs_background": "light"
          }
        }
      ]
    },
    {
      "cell_type": "markdown",
      "source": [
        "- Melakukan Standardization pada kolom **`Age`** dan **`FamilyMembers`**\n"
      ],
      "metadata": {
        "id": "RFm6SiQWMpqK"
      }
    },
    {
      "cell_type": "code",
      "source": [
        "df[['Age', 'FamilyMembers']].describe()"
      ],
      "metadata": {
        "colab": {
          "base_uri": "https://localhost:8080/",
          "height": 300
        },
        "id": "6K3TM8PyMmtE",
        "outputId": "99c1096f-3f62-4eb1-9127-1daa4aa856f8"
      },
      "execution_count": null,
      "outputs": [
        {
          "output_type": "execute_result",
          "data": {
            "text/plain": [
              "               Age  FamilyMembers\n",
              "count  1987.000000    1987.000000\n",
              "mean     29.650226       4.752894\n",
              "std       2.913308       1.609650\n",
              "min      25.000000       2.000000\n",
              "25%      28.000000       4.000000\n",
              "50%      29.000000       5.000000\n",
              "75%      32.000000       6.000000\n",
              "max      35.000000       9.000000"
            ],
            "text/html": [
              "\n",
              "  <div id=\"df-a5f71927-621e-4120-ac02-e16fbfcf59a6\">\n",
              "    <div class=\"colab-df-container\">\n",
              "      <div>\n",
              "<style scoped>\n",
              "    .dataframe tbody tr th:only-of-type {\n",
              "        vertical-align: middle;\n",
              "    }\n",
              "\n",
              "    .dataframe tbody tr th {\n",
              "        vertical-align: top;\n",
              "    }\n",
              "\n",
              "    .dataframe thead th {\n",
              "        text-align: right;\n",
              "    }\n",
              "</style>\n",
              "<table border=\"1\" class=\"dataframe\">\n",
              "  <thead>\n",
              "    <tr style=\"text-align: right;\">\n",
              "      <th></th>\n",
              "      <th>Age</th>\n",
              "      <th>FamilyMembers</th>\n",
              "    </tr>\n",
              "  </thead>\n",
              "  <tbody>\n",
              "    <tr>\n",
              "      <th>count</th>\n",
              "      <td>1987.000000</td>\n",
              "      <td>1987.000000</td>\n",
              "    </tr>\n",
              "    <tr>\n",
              "      <th>mean</th>\n",
              "      <td>29.650226</td>\n",
              "      <td>4.752894</td>\n",
              "    </tr>\n",
              "    <tr>\n",
              "      <th>std</th>\n",
              "      <td>2.913308</td>\n",
              "      <td>1.609650</td>\n",
              "    </tr>\n",
              "    <tr>\n",
              "      <th>min</th>\n",
              "      <td>25.000000</td>\n",
              "      <td>2.000000</td>\n",
              "    </tr>\n",
              "    <tr>\n",
              "      <th>25%</th>\n",
              "      <td>28.000000</td>\n",
              "      <td>4.000000</td>\n",
              "    </tr>\n",
              "    <tr>\n",
              "      <th>50%</th>\n",
              "      <td>29.000000</td>\n",
              "      <td>5.000000</td>\n",
              "    </tr>\n",
              "    <tr>\n",
              "      <th>75%</th>\n",
              "      <td>32.000000</td>\n",
              "      <td>6.000000</td>\n",
              "    </tr>\n",
              "    <tr>\n",
              "      <th>max</th>\n",
              "      <td>35.000000</td>\n",
              "      <td>9.000000</td>\n",
              "    </tr>\n",
              "  </tbody>\n",
              "</table>\n",
              "</div>\n",
              "      <button class=\"colab-df-convert\" onclick=\"convertToInteractive('df-a5f71927-621e-4120-ac02-e16fbfcf59a6')\"\n",
              "              title=\"Convert this dataframe to an interactive table.\"\n",
              "              style=\"display:none;\">\n",
              "        \n",
              "  <svg xmlns=\"http://www.w3.org/2000/svg\" height=\"24px\"viewBox=\"0 0 24 24\"\n",
              "       width=\"24px\">\n",
              "    <path d=\"M0 0h24v24H0V0z\" fill=\"none\"/>\n",
              "    <path d=\"M18.56 5.44l.94 2.06.94-2.06 2.06-.94-2.06-.94-.94-2.06-.94 2.06-2.06.94zm-11 1L8.5 8.5l.94-2.06 2.06-.94-2.06-.94L8.5 2.5l-.94 2.06-2.06.94zm10 10l.94 2.06.94-2.06 2.06-.94-2.06-.94-.94-2.06-.94 2.06-2.06.94z\"/><path d=\"M17.41 7.96l-1.37-1.37c-.4-.4-.92-.59-1.43-.59-.52 0-1.04.2-1.43.59L10.3 9.45l-7.72 7.72c-.78.78-.78 2.05 0 2.83L4 21.41c.39.39.9.59 1.41.59.51 0 1.02-.2 1.41-.59l7.78-7.78 2.81-2.81c.8-.78.8-2.07 0-2.86zM5.41 20L4 18.59l7.72-7.72 1.47 1.35L5.41 20z\"/>\n",
              "  </svg>\n",
              "      </button>\n",
              "      \n",
              "  <style>\n",
              "    .colab-df-container {\n",
              "      display:flex;\n",
              "      flex-wrap:wrap;\n",
              "      gap: 12px;\n",
              "    }\n",
              "\n",
              "    .colab-df-convert {\n",
              "      background-color: #E8F0FE;\n",
              "      border: none;\n",
              "      border-radius: 50%;\n",
              "      cursor: pointer;\n",
              "      display: none;\n",
              "      fill: #1967D2;\n",
              "      height: 32px;\n",
              "      padding: 0 0 0 0;\n",
              "      width: 32px;\n",
              "    }\n",
              "\n",
              "    .colab-df-convert:hover {\n",
              "      background-color: #E2EBFA;\n",
              "      box-shadow: 0px 1px 2px rgba(60, 64, 67, 0.3), 0px 1px 3px 1px rgba(60, 64, 67, 0.15);\n",
              "      fill: #174EA6;\n",
              "    }\n",
              "\n",
              "    [theme=dark] .colab-df-convert {\n",
              "      background-color: #3B4455;\n",
              "      fill: #D2E3FC;\n",
              "    }\n",
              "\n",
              "    [theme=dark] .colab-df-convert:hover {\n",
              "      background-color: #434B5C;\n",
              "      box-shadow: 0px 1px 3px 1px rgba(0, 0, 0, 0.15);\n",
              "      filter: drop-shadow(0px 1px 2px rgba(0, 0, 0, 0.3));\n",
              "      fill: #FFFFFF;\n",
              "    }\n",
              "  </style>\n",
              "\n",
              "      <script>\n",
              "        const buttonEl =\n",
              "          document.querySelector('#df-a5f71927-621e-4120-ac02-e16fbfcf59a6 button.colab-df-convert');\n",
              "        buttonEl.style.display =\n",
              "          google.colab.kernel.accessAllowed ? 'block' : 'none';\n",
              "\n",
              "        async function convertToInteractive(key) {\n",
              "          const element = document.querySelector('#df-a5f71927-621e-4120-ac02-e16fbfcf59a6');\n",
              "          const dataTable =\n",
              "            await google.colab.kernel.invokeFunction('convertToInteractive',\n",
              "                                                     [key], {});\n",
              "          if (!dataTable) return;\n",
              "\n",
              "          const docLinkHtml = 'Like what you see? Visit the ' +\n",
              "            '<a target=\"_blank\" href=https://colab.research.google.com/notebooks/data_table.ipynb>data table notebook</a>'\n",
              "            + ' to learn more about interactive tables.';\n",
              "          element.innerHTML = '';\n",
              "          dataTable['output_type'] = 'display_data';\n",
              "          await google.colab.output.renderOutput(dataTable, element);\n",
              "          const docLink = document.createElement('div');\n",
              "          docLink.innerHTML = docLinkHtml;\n",
              "          element.appendChild(docLink);\n",
              "        }\n",
              "      </script>\n",
              "    </div>\n",
              "  </div>\n",
              "  "
            ]
          },
          "metadata": {},
          "execution_count": 22
        }
      ]
    },
    {
      "cell_type": "code",
      "source": [
        "#Kolom 'Age' dan 'FamilyMembers' dilakukan re-scale ke [0,1]\n",
        "df['Age_norm'] = MinMaxScaler().fit_transform(df['Age'].values.reshape(len(df), 1))\n",
        "df['FamilyMembers_norm'] = MinMaxScaler().fit_transform(df['FamilyMembers'].values.reshape(len(df), 1))\n",
        "\n",
        "#Kolom 'Age' dan 'FamilyMembers' dilakukan standarisasi (karena distribusi datanya sudah mendekati normal)\n",
        "df['Age_std'] = StandardScaler().fit_transform(df['Age'].values.reshape(len(df), 1))\n",
        "df['FamilyMembers_std'] = StandardScaler().fit_transform(df['FamilyMembers'].values.reshape(len(df), 1))"
      ],
      "metadata": {
        "id": "LJEG0IYiNYwN"
      },
      "execution_count": null,
      "outputs": []
    },
    {
      "cell_type": "code",
      "source": [
        "df.describe()"
      ],
      "metadata": {
        "colab": {
          "base_uri": "https://localhost:8080/",
          "height": 344
        },
        "id": "QwlyIesNNZsL",
        "outputId": "9f265400-2cc8-46b6-e37f-aa8ffe1f1192"
      },
      "execution_count": null,
      "outputs": [
        {
          "output_type": "execute_result",
          "data": {
            "text/plain": [
              "        Unnamed: 0          Age  AnnualIncome  FamilyMembers  TravelInsurance  \\\n",
              "count  1987.000000  1987.000000  1.987000e+03    1987.000000      1987.000000   \n",
              "mean    993.000000    29.650226  9.327630e+05       4.752894         0.357323   \n",
              "std     573.741812     2.913308  3.768557e+05       1.609650         0.479332   \n",
              "min       0.000000    25.000000  3.000000e+05       2.000000         0.000000   \n",
              "25%     496.500000    28.000000  6.000000e+05       4.000000         0.000000   \n",
              "50%     993.000000    29.000000  9.000000e+05       5.000000         0.000000   \n",
              "75%    1489.500000    32.000000  1.250000e+06       6.000000         1.000000   \n",
              "max    1986.000000    35.000000  1.800000e+06       9.000000         1.000000   \n",
              "\n",
              "       AnnualIncome_scaled     Age_norm  FamilyMembers_norm       Age_std  \\\n",
              "count          1987.000000  1987.000000         1987.000000  1.987000e+03   \n",
              "mean              0.421842     0.465023            0.393271 -6.333915e-16   \n",
              "std               0.251237     0.291331            0.229950  1.000252e+00   \n",
              "min               0.000000     0.000000            0.000000 -1.596603e+00   \n",
              "25%               0.200000     0.300000            0.285714 -5.665868e-01   \n",
              "50%               0.400000     0.400000            0.428571 -2.232480e-01   \n",
              "75%               0.633333     0.700000            0.571429  8.067684e-01   \n",
              "max               1.000000     1.000000            1.000000  1.836785e+00   \n",
              "\n",
              "       FamilyMembers_std  \n",
              "count       1.987000e+03  \n",
              "mean       -1.609181e-16  \n",
              "std         1.000252e+00  \n",
              "min        -1.710675e+00  \n",
              "25%        -4.678554e-01  \n",
              "50%         1.535541e-01  \n",
              "75%         7.749637e-01  \n",
              "max         2.639192e+00  "
            ],
            "text/html": [
              "\n",
              "  <div id=\"df-184497bc-b93a-4f58-b482-a80f56c86434\">\n",
              "    <div class=\"colab-df-container\">\n",
              "      <div>\n",
              "<style scoped>\n",
              "    .dataframe tbody tr th:only-of-type {\n",
              "        vertical-align: middle;\n",
              "    }\n",
              "\n",
              "    .dataframe tbody tr th {\n",
              "        vertical-align: top;\n",
              "    }\n",
              "\n",
              "    .dataframe thead th {\n",
              "        text-align: right;\n",
              "    }\n",
              "</style>\n",
              "<table border=\"1\" class=\"dataframe\">\n",
              "  <thead>\n",
              "    <tr style=\"text-align: right;\">\n",
              "      <th></th>\n",
              "      <th>Unnamed: 0</th>\n",
              "      <th>Age</th>\n",
              "      <th>AnnualIncome</th>\n",
              "      <th>FamilyMembers</th>\n",
              "      <th>TravelInsurance</th>\n",
              "      <th>AnnualIncome_scaled</th>\n",
              "      <th>Age_norm</th>\n",
              "      <th>FamilyMembers_norm</th>\n",
              "      <th>Age_std</th>\n",
              "      <th>FamilyMembers_std</th>\n",
              "    </tr>\n",
              "  </thead>\n",
              "  <tbody>\n",
              "    <tr>\n",
              "      <th>count</th>\n",
              "      <td>1987.000000</td>\n",
              "      <td>1987.000000</td>\n",
              "      <td>1.987000e+03</td>\n",
              "      <td>1987.000000</td>\n",
              "      <td>1987.000000</td>\n",
              "      <td>1987.000000</td>\n",
              "      <td>1987.000000</td>\n",
              "      <td>1987.000000</td>\n",
              "      <td>1.987000e+03</td>\n",
              "      <td>1.987000e+03</td>\n",
              "    </tr>\n",
              "    <tr>\n",
              "      <th>mean</th>\n",
              "      <td>993.000000</td>\n",
              "      <td>29.650226</td>\n",
              "      <td>9.327630e+05</td>\n",
              "      <td>4.752894</td>\n",
              "      <td>0.357323</td>\n",
              "      <td>0.421842</td>\n",
              "      <td>0.465023</td>\n",
              "      <td>0.393271</td>\n",
              "      <td>-6.333915e-16</td>\n",
              "      <td>-1.609181e-16</td>\n",
              "    </tr>\n",
              "    <tr>\n",
              "      <th>std</th>\n",
              "      <td>573.741812</td>\n",
              "      <td>2.913308</td>\n",
              "      <td>3.768557e+05</td>\n",
              "      <td>1.609650</td>\n",
              "      <td>0.479332</td>\n",
              "      <td>0.251237</td>\n",
              "      <td>0.291331</td>\n",
              "      <td>0.229950</td>\n",
              "      <td>1.000252e+00</td>\n",
              "      <td>1.000252e+00</td>\n",
              "    </tr>\n",
              "    <tr>\n",
              "      <th>min</th>\n",
              "      <td>0.000000</td>\n",
              "      <td>25.000000</td>\n",
              "      <td>3.000000e+05</td>\n",
              "      <td>2.000000</td>\n",
              "      <td>0.000000</td>\n",
              "      <td>0.000000</td>\n",
              "      <td>0.000000</td>\n",
              "      <td>0.000000</td>\n",
              "      <td>-1.596603e+00</td>\n",
              "      <td>-1.710675e+00</td>\n",
              "    </tr>\n",
              "    <tr>\n",
              "      <th>25%</th>\n",
              "      <td>496.500000</td>\n",
              "      <td>28.000000</td>\n",
              "      <td>6.000000e+05</td>\n",
              "      <td>4.000000</td>\n",
              "      <td>0.000000</td>\n",
              "      <td>0.200000</td>\n",
              "      <td>0.300000</td>\n",
              "      <td>0.285714</td>\n",
              "      <td>-5.665868e-01</td>\n",
              "      <td>-4.678554e-01</td>\n",
              "    </tr>\n",
              "    <tr>\n",
              "      <th>50%</th>\n",
              "      <td>993.000000</td>\n",
              "      <td>29.000000</td>\n",
              "      <td>9.000000e+05</td>\n",
              "      <td>5.000000</td>\n",
              "      <td>0.000000</td>\n",
              "      <td>0.400000</td>\n",
              "      <td>0.400000</td>\n",
              "      <td>0.428571</td>\n",
              "      <td>-2.232480e-01</td>\n",
              "      <td>1.535541e-01</td>\n",
              "    </tr>\n",
              "    <tr>\n",
              "      <th>75%</th>\n",
              "      <td>1489.500000</td>\n",
              "      <td>32.000000</td>\n",
              "      <td>1.250000e+06</td>\n",
              "      <td>6.000000</td>\n",
              "      <td>1.000000</td>\n",
              "      <td>0.633333</td>\n",
              "      <td>0.700000</td>\n",
              "      <td>0.571429</td>\n",
              "      <td>8.067684e-01</td>\n",
              "      <td>7.749637e-01</td>\n",
              "    </tr>\n",
              "    <tr>\n",
              "      <th>max</th>\n",
              "      <td>1986.000000</td>\n",
              "      <td>35.000000</td>\n",
              "      <td>1.800000e+06</td>\n",
              "      <td>9.000000</td>\n",
              "      <td>1.000000</td>\n",
              "      <td>1.000000</td>\n",
              "      <td>1.000000</td>\n",
              "      <td>1.000000</td>\n",
              "      <td>1.836785e+00</td>\n",
              "      <td>2.639192e+00</td>\n",
              "    </tr>\n",
              "  </tbody>\n",
              "</table>\n",
              "</div>\n",
              "      <button class=\"colab-df-convert\" onclick=\"convertToInteractive('df-184497bc-b93a-4f58-b482-a80f56c86434')\"\n",
              "              title=\"Convert this dataframe to an interactive table.\"\n",
              "              style=\"display:none;\">\n",
              "        \n",
              "  <svg xmlns=\"http://www.w3.org/2000/svg\" height=\"24px\"viewBox=\"0 0 24 24\"\n",
              "       width=\"24px\">\n",
              "    <path d=\"M0 0h24v24H0V0z\" fill=\"none\"/>\n",
              "    <path d=\"M18.56 5.44l.94 2.06.94-2.06 2.06-.94-2.06-.94-.94-2.06-.94 2.06-2.06.94zm-11 1L8.5 8.5l.94-2.06 2.06-.94-2.06-.94L8.5 2.5l-.94 2.06-2.06.94zm10 10l.94 2.06.94-2.06 2.06-.94-2.06-.94-.94-2.06-.94 2.06-2.06.94z\"/><path d=\"M17.41 7.96l-1.37-1.37c-.4-.4-.92-.59-1.43-.59-.52 0-1.04.2-1.43.59L10.3 9.45l-7.72 7.72c-.78.78-.78 2.05 0 2.83L4 21.41c.39.39.9.59 1.41.59.51 0 1.02-.2 1.41-.59l7.78-7.78 2.81-2.81c.8-.78.8-2.07 0-2.86zM5.41 20L4 18.59l7.72-7.72 1.47 1.35L5.41 20z\"/>\n",
              "  </svg>\n",
              "      </button>\n",
              "      \n",
              "  <style>\n",
              "    .colab-df-container {\n",
              "      display:flex;\n",
              "      flex-wrap:wrap;\n",
              "      gap: 12px;\n",
              "    }\n",
              "\n",
              "    .colab-df-convert {\n",
              "      background-color: #E8F0FE;\n",
              "      border: none;\n",
              "      border-radius: 50%;\n",
              "      cursor: pointer;\n",
              "      display: none;\n",
              "      fill: #1967D2;\n",
              "      height: 32px;\n",
              "      padding: 0 0 0 0;\n",
              "      width: 32px;\n",
              "    }\n",
              "\n",
              "    .colab-df-convert:hover {\n",
              "      background-color: #E2EBFA;\n",
              "      box-shadow: 0px 1px 2px rgba(60, 64, 67, 0.3), 0px 1px 3px 1px rgba(60, 64, 67, 0.15);\n",
              "      fill: #174EA6;\n",
              "    }\n",
              "\n",
              "    [theme=dark] .colab-df-convert {\n",
              "      background-color: #3B4455;\n",
              "      fill: #D2E3FC;\n",
              "    }\n",
              "\n",
              "    [theme=dark] .colab-df-convert:hover {\n",
              "      background-color: #434B5C;\n",
              "      box-shadow: 0px 1px 3px 1px rgba(0, 0, 0, 0.15);\n",
              "      filter: drop-shadow(0px 1px 2px rgba(0, 0, 0, 0.3));\n",
              "      fill: #FFFFFF;\n",
              "    }\n",
              "  </style>\n",
              "\n",
              "      <script>\n",
              "        const buttonEl =\n",
              "          document.querySelector('#df-184497bc-b93a-4f58-b482-a80f56c86434 button.colab-df-convert');\n",
              "        buttonEl.style.display =\n",
              "          google.colab.kernel.accessAllowed ? 'block' : 'none';\n",
              "\n",
              "        async function convertToInteractive(key) {\n",
              "          const element = document.querySelector('#df-184497bc-b93a-4f58-b482-a80f56c86434');\n",
              "          const dataTable =\n",
              "            await google.colab.kernel.invokeFunction('convertToInteractive',\n",
              "                                                     [key], {});\n",
              "          if (!dataTable) return;\n",
              "\n",
              "          const docLinkHtml = 'Like what you see? Visit the ' +\n",
              "            '<a target=\"_blank\" href=https://colab.research.google.com/notebooks/data_table.ipynb>data table notebook</a>'\n",
              "            + ' to learn more about interactive tables.';\n",
              "          element.innerHTML = '';\n",
              "          dataTable['output_type'] = 'display_data';\n",
              "          await google.colab.output.renderOutput(dataTable, element);\n",
              "          const docLink = document.createElement('div');\n",
              "          docLink.innerHTML = docLinkHtml;\n",
              "          element.appendChild(docLink);\n",
              "        }\n",
              "      </script>\n",
              "    </div>\n",
              "  </div>\n",
              "  "
            ]
          },
          "metadata": {},
          "execution_count": 24
        }
      ]
    },
    {
      "cell_type": "markdown",
      "source": [
        "### 1.e. Feature Encoding"
      ],
      "metadata": {
        "id": "VUaapn1GlF9Z"
      }
    },
    {
      "cell_type": "code",
      "source": [
        "#Inisialisasi label encoder\n",
        "le = LabelEncoder()\n",
        "\n",
        "#Mengkodekan kolom 'GraduateOrNot'\n",
        "df['GraduateOrNot'] = le.fit_transform(df['GraduateOrNot'])\n",
        "\n",
        "#Mengkodekan kolom 'FrequentFlyer'\n",
        "df['FrequentFlyer'] = le.fit_transform(df['FrequentFlyer'])\n",
        "\n",
        "#Mengkodekan kolom 'EverTravelledAbroad'\n",
        "df['EverTravelledAbroad'] = le.fit_transform(df['EverTravelledAbroad'])\n",
        "\n",
        "#Mengkodekan kolom 'Employment Type'\n",
        "df['Employment Type'] = le.fit_transform(df['Employment Type'])"
      ],
      "metadata": {
        "id": "LqX7gEzzCmt7"
      },
      "execution_count": null,
      "outputs": []
    },
    {
      "cell_type": "code",
      "source": [
        "#Mengecek perubahan label encoding\n",
        "df.head()"
      ],
      "metadata": {
        "colab": {
          "base_uri": "https://localhost:8080/",
          "height": 287
        },
        "id": "nIKvZ5uNCmwq",
        "outputId": "a76456e1-eb9f-4044-b0dd-f3f3a61fe504"
      },
      "execution_count": null,
      "outputs": [
        {
          "output_type": "execute_result",
          "data": {
            "text/plain": [
              "   Unnamed: 0  Age  Employment Type  GraduateOrNot  AnnualIncome  \\\n",
              "0           0   31                0              1        400000   \n",
              "1           1   31                1              1       1250000   \n",
              "2           2   34                1              1        500000   \n",
              "3           3   28                1              1        700000   \n",
              "4           4   28                1              1        700000   \n",
              "\n",
              "   FamilyMembers ChronicDiseases  FrequentFlyer  EverTravelledAbroad  \\\n",
              "0              6               1              0                    0   \n",
              "1              7               0              0                    0   \n",
              "2              4               1              0                    0   \n",
              "3              3               1              0                    0   \n",
              "4              8               1              1                    0   \n",
              "\n",
              "   TravelInsurance  AnnualIncome_scaled  Age_norm  FamilyMembers_norm  \\\n",
              "0                0             0.066667       0.6            0.571429   \n",
              "1                0             0.633333       0.6            0.714286   \n",
              "2                1             0.133333       0.9            0.285714   \n",
              "3                0             0.266667       0.3            0.142857   \n",
              "4                0             0.266667       0.3            0.857143   \n",
              "\n",
              "    Age_std  FamilyMembers_std  \n",
              "0  0.463430           0.774964  \n",
              "1  0.463430           1.396373  \n",
              "2  1.493446          -0.467855  \n",
              "3 -0.566587          -1.089265  \n",
              "4 -0.566587           2.017783  "
            ],
            "text/html": [
              "\n",
              "  <div id=\"df-6aaaa163-0c89-4cbf-9903-de804eb26697\">\n",
              "    <div class=\"colab-df-container\">\n",
              "      <div>\n",
              "<style scoped>\n",
              "    .dataframe tbody tr th:only-of-type {\n",
              "        vertical-align: middle;\n",
              "    }\n",
              "\n",
              "    .dataframe tbody tr th {\n",
              "        vertical-align: top;\n",
              "    }\n",
              "\n",
              "    .dataframe thead th {\n",
              "        text-align: right;\n",
              "    }\n",
              "</style>\n",
              "<table border=\"1\" class=\"dataframe\">\n",
              "  <thead>\n",
              "    <tr style=\"text-align: right;\">\n",
              "      <th></th>\n",
              "      <th>Unnamed: 0</th>\n",
              "      <th>Age</th>\n",
              "      <th>Employment Type</th>\n",
              "      <th>GraduateOrNot</th>\n",
              "      <th>AnnualIncome</th>\n",
              "      <th>FamilyMembers</th>\n",
              "      <th>ChronicDiseases</th>\n",
              "      <th>FrequentFlyer</th>\n",
              "      <th>EverTravelledAbroad</th>\n",
              "      <th>TravelInsurance</th>\n",
              "      <th>AnnualIncome_scaled</th>\n",
              "      <th>Age_norm</th>\n",
              "      <th>FamilyMembers_norm</th>\n",
              "      <th>Age_std</th>\n",
              "      <th>FamilyMembers_std</th>\n",
              "    </tr>\n",
              "  </thead>\n",
              "  <tbody>\n",
              "    <tr>\n",
              "      <th>0</th>\n",
              "      <td>0</td>\n",
              "      <td>31</td>\n",
              "      <td>0</td>\n",
              "      <td>1</td>\n",
              "      <td>400000</td>\n",
              "      <td>6</td>\n",
              "      <td>1</td>\n",
              "      <td>0</td>\n",
              "      <td>0</td>\n",
              "      <td>0</td>\n",
              "      <td>0.066667</td>\n",
              "      <td>0.6</td>\n",
              "      <td>0.571429</td>\n",
              "      <td>0.463430</td>\n",
              "      <td>0.774964</td>\n",
              "    </tr>\n",
              "    <tr>\n",
              "      <th>1</th>\n",
              "      <td>1</td>\n",
              "      <td>31</td>\n",
              "      <td>1</td>\n",
              "      <td>1</td>\n",
              "      <td>1250000</td>\n",
              "      <td>7</td>\n",
              "      <td>0</td>\n",
              "      <td>0</td>\n",
              "      <td>0</td>\n",
              "      <td>0</td>\n",
              "      <td>0.633333</td>\n",
              "      <td>0.6</td>\n",
              "      <td>0.714286</td>\n",
              "      <td>0.463430</td>\n",
              "      <td>1.396373</td>\n",
              "    </tr>\n",
              "    <tr>\n",
              "      <th>2</th>\n",
              "      <td>2</td>\n",
              "      <td>34</td>\n",
              "      <td>1</td>\n",
              "      <td>1</td>\n",
              "      <td>500000</td>\n",
              "      <td>4</td>\n",
              "      <td>1</td>\n",
              "      <td>0</td>\n",
              "      <td>0</td>\n",
              "      <td>1</td>\n",
              "      <td>0.133333</td>\n",
              "      <td>0.9</td>\n",
              "      <td>0.285714</td>\n",
              "      <td>1.493446</td>\n",
              "      <td>-0.467855</td>\n",
              "    </tr>\n",
              "    <tr>\n",
              "      <th>3</th>\n",
              "      <td>3</td>\n",
              "      <td>28</td>\n",
              "      <td>1</td>\n",
              "      <td>1</td>\n",
              "      <td>700000</td>\n",
              "      <td>3</td>\n",
              "      <td>1</td>\n",
              "      <td>0</td>\n",
              "      <td>0</td>\n",
              "      <td>0</td>\n",
              "      <td>0.266667</td>\n",
              "      <td>0.3</td>\n",
              "      <td>0.142857</td>\n",
              "      <td>-0.566587</td>\n",
              "      <td>-1.089265</td>\n",
              "    </tr>\n",
              "    <tr>\n",
              "      <th>4</th>\n",
              "      <td>4</td>\n",
              "      <td>28</td>\n",
              "      <td>1</td>\n",
              "      <td>1</td>\n",
              "      <td>700000</td>\n",
              "      <td>8</td>\n",
              "      <td>1</td>\n",
              "      <td>1</td>\n",
              "      <td>0</td>\n",
              "      <td>0</td>\n",
              "      <td>0.266667</td>\n",
              "      <td>0.3</td>\n",
              "      <td>0.857143</td>\n",
              "      <td>-0.566587</td>\n",
              "      <td>2.017783</td>\n",
              "    </tr>\n",
              "  </tbody>\n",
              "</table>\n",
              "</div>\n",
              "      <button class=\"colab-df-convert\" onclick=\"convertToInteractive('df-6aaaa163-0c89-4cbf-9903-de804eb26697')\"\n",
              "              title=\"Convert this dataframe to an interactive table.\"\n",
              "              style=\"display:none;\">\n",
              "        \n",
              "  <svg xmlns=\"http://www.w3.org/2000/svg\" height=\"24px\"viewBox=\"0 0 24 24\"\n",
              "       width=\"24px\">\n",
              "    <path d=\"M0 0h24v24H0V0z\" fill=\"none\"/>\n",
              "    <path d=\"M18.56 5.44l.94 2.06.94-2.06 2.06-.94-2.06-.94-.94-2.06-.94 2.06-2.06.94zm-11 1L8.5 8.5l.94-2.06 2.06-.94-2.06-.94L8.5 2.5l-.94 2.06-2.06.94zm10 10l.94 2.06.94-2.06 2.06-.94-2.06-.94-.94-2.06-.94 2.06-2.06.94z\"/><path d=\"M17.41 7.96l-1.37-1.37c-.4-.4-.92-.59-1.43-.59-.52 0-1.04.2-1.43.59L10.3 9.45l-7.72 7.72c-.78.78-.78 2.05 0 2.83L4 21.41c.39.39.9.59 1.41.59.51 0 1.02-.2 1.41-.59l7.78-7.78 2.81-2.81c.8-.78.8-2.07 0-2.86zM5.41 20L4 18.59l7.72-7.72 1.47 1.35L5.41 20z\"/>\n",
              "  </svg>\n",
              "      </button>\n",
              "      \n",
              "  <style>\n",
              "    .colab-df-container {\n",
              "      display:flex;\n",
              "      flex-wrap:wrap;\n",
              "      gap: 12px;\n",
              "    }\n",
              "\n",
              "    .colab-df-convert {\n",
              "      background-color: #E8F0FE;\n",
              "      border: none;\n",
              "      border-radius: 50%;\n",
              "      cursor: pointer;\n",
              "      display: none;\n",
              "      fill: #1967D2;\n",
              "      height: 32px;\n",
              "      padding: 0 0 0 0;\n",
              "      width: 32px;\n",
              "    }\n",
              "\n",
              "    .colab-df-convert:hover {\n",
              "      background-color: #E2EBFA;\n",
              "      box-shadow: 0px 1px 2px rgba(60, 64, 67, 0.3), 0px 1px 3px 1px rgba(60, 64, 67, 0.15);\n",
              "      fill: #174EA6;\n",
              "    }\n",
              "\n",
              "    [theme=dark] .colab-df-convert {\n",
              "      background-color: #3B4455;\n",
              "      fill: #D2E3FC;\n",
              "    }\n",
              "\n",
              "    [theme=dark] .colab-df-convert:hover {\n",
              "      background-color: #434B5C;\n",
              "      box-shadow: 0px 1px 3px 1px rgba(0, 0, 0, 0.15);\n",
              "      filter: drop-shadow(0px 1px 2px rgba(0, 0, 0, 0.3));\n",
              "      fill: #FFFFFF;\n",
              "    }\n",
              "  </style>\n",
              "\n",
              "      <script>\n",
              "        const buttonEl =\n",
              "          document.querySelector('#df-6aaaa163-0c89-4cbf-9903-de804eb26697 button.colab-df-convert');\n",
              "        buttonEl.style.display =\n",
              "          google.colab.kernel.accessAllowed ? 'block' : 'none';\n",
              "\n",
              "        async function convertToInteractive(key) {\n",
              "          const element = document.querySelector('#df-6aaaa163-0c89-4cbf-9903-de804eb26697');\n",
              "          const dataTable =\n",
              "            await google.colab.kernel.invokeFunction('convertToInteractive',\n",
              "                                                     [key], {});\n",
              "          if (!dataTable) return;\n",
              "\n",
              "          const docLinkHtml = 'Like what you see? Visit the ' +\n",
              "            '<a target=\"_blank\" href=https://colab.research.google.com/notebooks/data_table.ipynb>data table notebook</a>'\n",
              "            + ' to learn more about interactive tables.';\n",
              "          element.innerHTML = '';\n",
              "          dataTable['output_type'] = 'display_data';\n",
              "          await google.colab.output.renderOutput(dataTable, element);\n",
              "          const docLink = document.createElement('div');\n",
              "          docLink.innerHTML = docLinkHtml;\n",
              "          element.appendChild(docLink);\n",
              "        }\n",
              "      </script>\n",
              "    </div>\n",
              "  </div>\n",
              "  "
            ]
          },
          "metadata": {},
          "execution_count": 26
        }
      ]
    },
    {
      "cell_type": "code",
      "source": [
        "dummy_df = pd.get_dummies(df, drop_first = True)\n",
        "dummy_df.head()"
      ],
      "metadata": {
        "id": "fL8zMpeFlJwg",
        "colab": {
          "base_uri": "https://localhost:8080/",
          "height": 287
        },
        "outputId": "bc8ef6ba-b2ba-4cbb-e30a-418e521e4e42"
      },
      "execution_count": null,
      "outputs": [
        {
          "output_type": "execute_result",
          "data": {
            "text/plain": [
              "   Unnamed: 0  Age  Employment Type  GraduateOrNot  AnnualIncome  \\\n",
              "0           0   31                0              1        400000   \n",
              "1           1   31                1              1       1250000   \n",
              "2           2   34                1              1        500000   \n",
              "3           3   28                1              1        700000   \n",
              "4           4   28                1              1        700000   \n",
              "\n",
              "   FamilyMembers  FrequentFlyer  EverTravelledAbroad  TravelInsurance  \\\n",
              "0              6              0                    0                0   \n",
              "1              7              0                    0                0   \n",
              "2              4              0                    0                1   \n",
              "3              3              0                    0                0   \n",
              "4              8              1                    0                0   \n",
              "\n",
              "   AnnualIncome_scaled  Age_norm  FamilyMembers_norm   Age_std  \\\n",
              "0             0.066667       0.6            0.571429  0.463430   \n",
              "1             0.633333       0.6            0.714286  0.463430   \n",
              "2             0.133333       0.9            0.285714  1.493446   \n",
              "3             0.266667       0.3            0.142857 -0.566587   \n",
              "4             0.266667       0.3            0.857143 -0.566587   \n",
              "\n",
              "   FamilyMembers_std  ChronicDiseases_1  \n",
              "0           0.774964                  1  \n",
              "1           1.396373                  0  \n",
              "2          -0.467855                  1  \n",
              "3          -1.089265                  1  \n",
              "4           2.017783                  1  "
            ],
            "text/html": [
              "\n",
              "  <div id=\"df-c2aaee3a-08c8-49e6-b3d4-ad4d7e2e0c75\">\n",
              "    <div class=\"colab-df-container\">\n",
              "      <div>\n",
              "<style scoped>\n",
              "    .dataframe tbody tr th:only-of-type {\n",
              "        vertical-align: middle;\n",
              "    }\n",
              "\n",
              "    .dataframe tbody tr th {\n",
              "        vertical-align: top;\n",
              "    }\n",
              "\n",
              "    .dataframe thead th {\n",
              "        text-align: right;\n",
              "    }\n",
              "</style>\n",
              "<table border=\"1\" class=\"dataframe\">\n",
              "  <thead>\n",
              "    <tr style=\"text-align: right;\">\n",
              "      <th></th>\n",
              "      <th>Unnamed: 0</th>\n",
              "      <th>Age</th>\n",
              "      <th>Employment Type</th>\n",
              "      <th>GraduateOrNot</th>\n",
              "      <th>AnnualIncome</th>\n",
              "      <th>FamilyMembers</th>\n",
              "      <th>FrequentFlyer</th>\n",
              "      <th>EverTravelledAbroad</th>\n",
              "      <th>TravelInsurance</th>\n",
              "      <th>AnnualIncome_scaled</th>\n",
              "      <th>Age_norm</th>\n",
              "      <th>FamilyMembers_norm</th>\n",
              "      <th>Age_std</th>\n",
              "      <th>FamilyMembers_std</th>\n",
              "      <th>ChronicDiseases_1</th>\n",
              "    </tr>\n",
              "  </thead>\n",
              "  <tbody>\n",
              "    <tr>\n",
              "      <th>0</th>\n",
              "      <td>0</td>\n",
              "      <td>31</td>\n",
              "      <td>0</td>\n",
              "      <td>1</td>\n",
              "      <td>400000</td>\n",
              "      <td>6</td>\n",
              "      <td>0</td>\n",
              "      <td>0</td>\n",
              "      <td>0</td>\n",
              "      <td>0.066667</td>\n",
              "      <td>0.6</td>\n",
              "      <td>0.571429</td>\n",
              "      <td>0.463430</td>\n",
              "      <td>0.774964</td>\n",
              "      <td>1</td>\n",
              "    </tr>\n",
              "    <tr>\n",
              "      <th>1</th>\n",
              "      <td>1</td>\n",
              "      <td>31</td>\n",
              "      <td>1</td>\n",
              "      <td>1</td>\n",
              "      <td>1250000</td>\n",
              "      <td>7</td>\n",
              "      <td>0</td>\n",
              "      <td>0</td>\n",
              "      <td>0</td>\n",
              "      <td>0.633333</td>\n",
              "      <td>0.6</td>\n",
              "      <td>0.714286</td>\n",
              "      <td>0.463430</td>\n",
              "      <td>1.396373</td>\n",
              "      <td>0</td>\n",
              "    </tr>\n",
              "    <tr>\n",
              "      <th>2</th>\n",
              "      <td>2</td>\n",
              "      <td>34</td>\n",
              "      <td>1</td>\n",
              "      <td>1</td>\n",
              "      <td>500000</td>\n",
              "      <td>4</td>\n",
              "      <td>0</td>\n",
              "      <td>0</td>\n",
              "      <td>1</td>\n",
              "      <td>0.133333</td>\n",
              "      <td>0.9</td>\n",
              "      <td>0.285714</td>\n",
              "      <td>1.493446</td>\n",
              "      <td>-0.467855</td>\n",
              "      <td>1</td>\n",
              "    </tr>\n",
              "    <tr>\n",
              "      <th>3</th>\n",
              "      <td>3</td>\n",
              "      <td>28</td>\n",
              "      <td>1</td>\n",
              "      <td>1</td>\n",
              "      <td>700000</td>\n",
              "      <td>3</td>\n",
              "      <td>0</td>\n",
              "      <td>0</td>\n",
              "      <td>0</td>\n",
              "      <td>0.266667</td>\n",
              "      <td>0.3</td>\n",
              "      <td>0.142857</td>\n",
              "      <td>-0.566587</td>\n",
              "      <td>-1.089265</td>\n",
              "      <td>1</td>\n",
              "    </tr>\n",
              "    <tr>\n",
              "      <th>4</th>\n",
              "      <td>4</td>\n",
              "      <td>28</td>\n",
              "      <td>1</td>\n",
              "      <td>1</td>\n",
              "      <td>700000</td>\n",
              "      <td>8</td>\n",
              "      <td>1</td>\n",
              "      <td>0</td>\n",
              "      <td>0</td>\n",
              "      <td>0.266667</td>\n",
              "      <td>0.3</td>\n",
              "      <td>0.857143</td>\n",
              "      <td>-0.566587</td>\n",
              "      <td>2.017783</td>\n",
              "      <td>1</td>\n",
              "    </tr>\n",
              "  </tbody>\n",
              "</table>\n",
              "</div>\n",
              "      <button class=\"colab-df-convert\" onclick=\"convertToInteractive('df-c2aaee3a-08c8-49e6-b3d4-ad4d7e2e0c75')\"\n",
              "              title=\"Convert this dataframe to an interactive table.\"\n",
              "              style=\"display:none;\">\n",
              "        \n",
              "  <svg xmlns=\"http://www.w3.org/2000/svg\" height=\"24px\"viewBox=\"0 0 24 24\"\n",
              "       width=\"24px\">\n",
              "    <path d=\"M0 0h24v24H0V0z\" fill=\"none\"/>\n",
              "    <path d=\"M18.56 5.44l.94 2.06.94-2.06 2.06-.94-2.06-.94-.94-2.06-.94 2.06-2.06.94zm-11 1L8.5 8.5l.94-2.06 2.06-.94-2.06-.94L8.5 2.5l-.94 2.06-2.06.94zm10 10l.94 2.06.94-2.06 2.06-.94-2.06-.94-.94-2.06-.94 2.06-2.06.94z\"/><path d=\"M17.41 7.96l-1.37-1.37c-.4-.4-.92-.59-1.43-.59-.52 0-1.04.2-1.43.59L10.3 9.45l-7.72 7.72c-.78.78-.78 2.05 0 2.83L4 21.41c.39.39.9.59 1.41.59.51 0 1.02-.2 1.41-.59l7.78-7.78 2.81-2.81c.8-.78.8-2.07 0-2.86zM5.41 20L4 18.59l7.72-7.72 1.47 1.35L5.41 20z\"/>\n",
              "  </svg>\n",
              "      </button>\n",
              "      \n",
              "  <style>\n",
              "    .colab-df-container {\n",
              "      display:flex;\n",
              "      flex-wrap:wrap;\n",
              "      gap: 12px;\n",
              "    }\n",
              "\n",
              "    .colab-df-convert {\n",
              "      background-color: #E8F0FE;\n",
              "      border: none;\n",
              "      border-radius: 50%;\n",
              "      cursor: pointer;\n",
              "      display: none;\n",
              "      fill: #1967D2;\n",
              "      height: 32px;\n",
              "      padding: 0 0 0 0;\n",
              "      width: 32px;\n",
              "    }\n",
              "\n",
              "    .colab-df-convert:hover {\n",
              "      background-color: #E2EBFA;\n",
              "      box-shadow: 0px 1px 2px rgba(60, 64, 67, 0.3), 0px 1px 3px 1px rgba(60, 64, 67, 0.15);\n",
              "      fill: #174EA6;\n",
              "    }\n",
              "\n",
              "    [theme=dark] .colab-df-convert {\n",
              "      background-color: #3B4455;\n",
              "      fill: #D2E3FC;\n",
              "    }\n",
              "\n",
              "    [theme=dark] .colab-df-convert:hover {\n",
              "      background-color: #434B5C;\n",
              "      box-shadow: 0px 1px 3px 1px rgba(0, 0, 0, 0.15);\n",
              "      filter: drop-shadow(0px 1px 2px rgba(0, 0, 0, 0.3));\n",
              "      fill: #FFFFFF;\n",
              "    }\n",
              "  </style>\n",
              "\n",
              "      <script>\n",
              "        const buttonEl =\n",
              "          document.querySelector('#df-c2aaee3a-08c8-49e6-b3d4-ad4d7e2e0c75 button.colab-df-convert');\n",
              "        buttonEl.style.display =\n",
              "          google.colab.kernel.accessAllowed ? 'block' : 'none';\n",
              "\n",
              "        async function convertToInteractive(key) {\n",
              "          const element = document.querySelector('#df-c2aaee3a-08c8-49e6-b3d4-ad4d7e2e0c75');\n",
              "          const dataTable =\n",
              "            await google.colab.kernel.invokeFunction('convertToInteractive',\n",
              "                                                     [key], {});\n",
              "          if (!dataTable) return;\n",
              "\n",
              "          const docLinkHtml = 'Like what you see? Visit the ' +\n",
              "            '<a target=\"_blank\" href=https://colab.research.google.com/notebooks/data_table.ipynb>data table notebook</a>'\n",
              "            + ' to learn more about interactive tables.';\n",
              "          element.innerHTML = '';\n",
              "          dataTable['output_type'] = 'display_data';\n",
              "          await google.colab.output.renderOutput(dataTable, element);\n",
              "          const docLink = document.createElement('div');\n",
              "          docLink.innerHTML = docLinkHtml;\n",
              "          element.appendChild(docLink);\n",
              "        }\n",
              "      </script>\n",
              "    </div>\n",
              "  </div>\n",
              "  "
            ]
          },
          "metadata": {},
          "execution_count": 27
        }
      ]
    },
    {
      "cell_type": "markdown",
      "source": [
        "### 1.f. Handle Class Imbalance"
      ],
      "metadata": {
        "id": "xYiumIVUlKeG"
      }
    },
    {
      "cell_type": "code",
      "source": [
        "#Menghitung jumlah value dan persentase pada target\n",
        "value = \"TravelInsurance\"\n",
        "print(f\"Value count kolom {value}:\")\n",
        "print(df[value].value_counts())\n",
        "print()\n",
        "print(f\"Persentase kolom {value}:\")\n",
        "print(round(df[value].value_counts([value])*100, 2))"
      ],
      "metadata": {
        "colab": {
          "base_uri": "https://localhost:8080/"
        },
        "id": "4GkwnWXzfhbZ",
        "outputId": "4afbcbd0-eced-425f-8616-78646dd945d5"
      },
      "execution_count": null,
      "outputs": [
        {
          "output_type": "stream",
          "name": "stdout",
          "text": [
            "Value count kolom TravelInsurance:\n",
            "0    1277\n",
            "1     710\n",
            "Name: TravelInsurance, dtype: int64\n",
            "\n",
            "Persentase kolom TravelInsurance:\n",
            "0    64.27\n",
            "1    35.73\n",
            "Name: TravelInsurance, dtype: float64\n"
          ]
        }
      ]
    },
    {
      "cell_type": "markdown",
      "source": [
        "Distribusi kolom tampak tidak seimbang. jumlah customer yang tidak membeli travel insurance lebih dominan sebanyak 1277 (64.27%)"
      ],
      "metadata": {
        "id": "VzkDOo3Rf3wX"
      }
    },
    {
      "cell_type": "markdown",
      "source": [
        "- Melakukan oversampling metode SMOTE"
      ],
      "metadata": {
        "id": "EIqQemi9kHrR"
      }
    },
    {
      "cell_type": "code",
      "source": [
        "#Pemisahan features vs target\n",
        "x = df.drop(['TravelInsurance'], axis = 1)\n",
        "y = df['TravelInsurance']\n",
        "\n",
        "#Membagi dataset\n",
        "x_train, x_test, y_train, y_test = train_test_split(x, y, test_size = 0.3, random_state = 10)"
      ],
      "metadata": {
        "id": "t71wG2nRg2VQ"
      },
      "execution_count": null,
      "outputs": []
    },
    {
      "cell_type": "code",
      "source": [
        "#Melakukan SMOTE pada train set\n",
        "sm = SMOTE(random_state = 10)\n",
        "x_train_res, y_train_res = sm.fit_resample(x_train, y_train)"
      ],
      "metadata": {
        "id": "VxW-2ZzQk_mj"
      },
      "execution_count": null,
      "outputs": []
    },
    {
      "cell_type": "code",
      "source": [
        "#Menampilkan jumlah instance pada setiap kelas sebelum dan sesudah SMOTE\n",
        "print(\"Sebelum SMOTE:\")\n",
        "print(y_train.value_counts())\n",
        "print(\"\\nSetelah SMOTE:\")\n",
        "print(y_train_res.value_counts())"
      ],
      "metadata": {
        "colab": {
          "base_uri": "https://localhost:8080/"
        },
        "id": "2qGO9sxtg2YP",
        "outputId": "2059ba15-c81e-42da-8f63-c163bcf212c2"
      },
      "execution_count": null,
      "outputs": [
        {
          "output_type": "stream",
          "name": "stdout",
          "text": [
            "Sebelum SMOTE:\n",
            "0    892\n",
            "1    498\n",
            "Name: TravelInsurance, dtype: int64\n",
            "\n",
            "Setelah SMOTE:\n",
            "0    892\n",
            "1    892\n",
            "Name: TravelInsurance, dtype: int64\n"
          ]
        }
      ]
    },
    {
      "cell_type": "markdown",
      "source": [
        "## 2. Feature Engineering"
      ],
      "metadata": {
        "id": "MszuSjChVr8V"
      }
    },
    {
      "cell_type": "markdown",
      "source": [
        "### 2.a. Feature Selection"
      ],
      "metadata": {
        "id": "_Todm_lfV1GF"
      }
    },
    {
      "cell_type": "code",
      "source": [
        "#Drop Unnamed: 0 karena unique valuesnya terlalu banyak\n",
        "df = df.drop(columns = 'Unnamed: 0')"
      ],
      "metadata": {
        "id": "GMLERu2oFqcG"
      },
      "execution_count": null,
      "outputs": []
    },
    {
      "cell_type": "code",
      "source": [
        "df.info()"
      ],
      "metadata": {
        "id": "Kv8jy5PV4nLl",
        "colab": {
          "base_uri": "https://localhost:8080/"
        },
        "outputId": "7af4c084-7ada-4d15-c25c-a177be4d1f98"
      },
      "execution_count": null,
      "outputs": [
        {
          "output_type": "stream",
          "name": "stdout",
          "text": [
            "<class 'pandas.core.frame.DataFrame'>\n",
            "Int64Index: 1987 entries, 0 to 1986\n",
            "Data columns (total 14 columns):\n",
            " #   Column               Non-Null Count  Dtype  \n",
            "---  ------               --------------  -----  \n",
            " 0   Age                  1987 non-null   int64  \n",
            " 1   Employment Type      1987 non-null   int64  \n",
            " 2   GraduateOrNot        1987 non-null   int64  \n",
            " 3   AnnualIncome         1987 non-null   int64  \n",
            " 4   FamilyMembers        1987 non-null   int64  \n",
            " 5   ChronicDiseases      1987 non-null   object \n",
            " 6   FrequentFlyer        1987 non-null   int64  \n",
            " 7   EverTravelledAbroad  1987 non-null   int64  \n",
            " 8   TravelInsurance      1987 non-null   int64  \n",
            " 9   AnnualIncome_scaled  1987 non-null   float64\n",
            " 10  Age_norm             1987 non-null   float64\n",
            " 11  FamilyMembers_norm   1987 non-null   float64\n",
            " 12  Age_std              1987 non-null   float64\n",
            " 13  FamilyMembers_std    1987 non-null   float64\n",
            "dtypes: float64(5), int64(8), object(1)\n",
            "memory usage: 232.9+ KB\n"
          ]
        }
      ]
    },
    {
      "cell_type": "code",
      "source": [
        "df_cat = df[['Employment Type', 'GraduateOrNot', 'ChronicDiseases', 'FrequentFlyer', 'EverTravelledAbroad', 'TravelInsurance']].copy()\n",
        "for col in ['Employment Type', 'GraduateOrNot', 'ChronicDiseases', 'FrequentFlyer', 'EverTravelledAbroad']:\n",
        "  ct = pd.crosstab(df_cat[col], df_cat.TravelInsurance)\n",
        "  chi, p, dof, expected = stats.chi2_contingency(ct)\n",
        "  print(f\"Column = {col}\\nChi2 value = {chi}\\np-value = {p}\\nDegrees of freedom = {dof}\\n\")"
      ],
      "metadata": {
        "colab": {
          "base_uri": "https://localhost:8080/"
        },
        "id": "8wL6HX06MCyQ",
        "outputId": "7e7a335c-fee3-4d5e-fc2a-cce6c0029631"
      },
      "execution_count": null,
      "outputs": [
        {
          "output_type": "stream",
          "name": "stdout",
          "text": [
            "Column = Employment Type\n",
            "Chi2 value = 42.75380328896317\n",
            "p-value = 6.208106601512192e-11\n",
            "Degrees of freedom = 1\n",
            "\n",
            "Column = GraduateOrNot\n",
            "Chi2 value = 0.605510042905726\n",
            "p-value = 0.4364833842842336\n",
            "Degrees of freedom = 1\n",
            "\n",
            "Column = ChronicDiseases\n",
            "Chi2 value = 0.5754114650274649\n",
            "p-value = 0.4481165216392011\n",
            "Degrees of freedom = 1\n",
            "\n",
            "Column = FrequentFlyer\n",
            "Chi2 value = 105.85723074203977\n",
            "p-value = 7.92436041506454e-25\n",
            "Degrees of freedom = 1\n",
            "\n",
            "Column = EverTravelledAbroad\n",
            "Chi2 value = 370.5599281861554\n",
            "p-value = 1.4134505859999571e-82\n",
            "Degrees of freedom = 1\n",
            "\n"
          ]
        }
      ]
    },
    {
      "cell_type": "code",
      "source": [
        "X = df[['Age', 'AnnualIncome', 'FamilyMembers', 'Age_norm', 'Age_std', 'FamilyMembers_norm', 'FamilyMembers_std']].copy()\n",
        "y = df['TravelInsurance'].copy()\n",
        "F, pval = f_classif(X,y)\n",
        "\n",
        "col = ['Age', 'AnnualIncome', 'FamilyMembers', 'Age_norm', 'Age_std', 'FamilyMembers_norm', 'FamilyMembers_std']\n",
        "for i in range(0, len(col)):\n",
        "  print(f\"Column = {col[i]}\\nF-value = {F[i]}\\npval = {pval[i]}\\n\")"
      ],
      "metadata": {
        "colab": {
          "base_uri": "https://localhost:8080/"
        },
        "id": "pC244RW-SMkV",
        "outputId": "fe796810-b842-49c4-f0eb-87a2c709ee6a"
      },
      "execution_count": null,
      "outputs": [
        {
          "output_type": "stream",
          "name": "stdout",
          "text": [
            "Column = Age\n",
            "F-value = 7.428382125056225\n",
            "pval = 0.006476683978697062\n",
            "\n",
            "Column = AnnualIncome\n",
            "F-value = 370.86229287714644\n",
            "pval = 6.635017760347684e-76\n",
            "\n",
            "Column = FamilyMembers\n",
            "F-value = 12.756575392113366\n",
            "pval = 0.0003632080073862163\n",
            "\n",
            "Column = Age_norm\n",
            "F-value = 7.428382125041942\n",
            "pval = 0.006476683978748834\n",
            "\n",
            "Column = Age_std\n",
            "F-value = 7.4283821250423205\n",
            "pval = 0.0064766839787472235\n",
            "\n",
            "Column = FamilyMembers_norm\n",
            "F-value = 12.756575392111564\n",
            "pval = 0.00036320800738661536\n",
            "\n",
            "Column = FamilyMembers_std\n",
            "F-value = 12.756575392112135\n",
            "pval = 0.0003632080073864857\n",
            "\n"
          ]
        }
      ]
    },
    {
      "cell_type": "code",
      "source": [
        "X = df[['Employment Type','GraduateOrNot','ChronicDiseases','FrequentFlyer','EverTravelledAbroad']].copy()\n",
        "y = df['TravelInsurance'].copy()\n",
        "select = SelectKBest(score_func = chi2, k = 5)\n",
        "z = select.fit_transform(X,y)\n",
        "filter = select.get_support()\n",
        "features = np.array(X.columns)\n",
        "print(filter)"
      ],
      "metadata": {
        "colab": {
          "base_uri": "https://localhost:8080/"
        },
        "id": "XMFwqnhATiV7",
        "outputId": "84113ce8-d888-4f6b-f22f-597bbfd9322e"
      },
      "execution_count": null,
      "outputs": [
        {
          "output_type": "stream",
          "name": "stdout",
          "text": [
            "[ True  True  True  True  True]\n"
          ]
        }
      ]
    },
    {
      "cell_type": "code",
      "source": [
        "num_features = [feature for feature in df.columns if df[feature].dtype != 'O' and feature != target]\n",
        "\n",
        "df[num_features].head()"
      ],
      "metadata": {
        "colab": {
          "base_uri": "https://localhost:8080/",
          "height": 287
        },
        "id": "XVcdL48qcB9g",
        "outputId": "acee4ae3-bfc8-4409-a3ab-44cb61ce68e7"
      },
      "execution_count": null,
      "outputs": [
        {
          "output_type": "execute_result",
          "data": {
            "text/plain": [
              "   Age  Employment Type  GraduateOrNot  AnnualIncome  FamilyMembers  \\\n",
              "0   31                0              1        400000              6   \n",
              "1   31                1              1       1250000              7   \n",
              "2   34                1              1        500000              4   \n",
              "3   28                1              1        700000              3   \n",
              "4   28                1              1        700000              8   \n",
              "\n",
              "   FrequentFlyer  EverTravelledAbroad  AnnualIncome_scaled  Age_norm  \\\n",
              "0              0                    0             0.066667       0.6   \n",
              "1              0                    0             0.633333       0.6   \n",
              "2              0                    0             0.133333       0.9   \n",
              "3              0                    0             0.266667       0.3   \n",
              "4              1                    0             0.266667       0.3   \n",
              "\n",
              "   FamilyMembers_norm   Age_std  FamilyMembers_std  \n",
              "0            0.571429  0.463430           0.774964  \n",
              "1            0.714286  0.463430           1.396373  \n",
              "2            0.285714  1.493446          -0.467855  \n",
              "3            0.142857 -0.566587          -1.089265  \n",
              "4            0.857143 -0.566587           2.017783  "
            ],
            "text/html": [
              "\n",
              "  <div id=\"df-5f4e5fba-6d5e-439c-99e9-75da1441ed74\">\n",
              "    <div class=\"colab-df-container\">\n",
              "      <div>\n",
              "<style scoped>\n",
              "    .dataframe tbody tr th:only-of-type {\n",
              "        vertical-align: middle;\n",
              "    }\n",
              "\n",
              "    .dataframe tbody tr th {\n",
              "        vertical-align: top;\n",
              "    }\n",
              "\n",
              "    .dataframe thead th {\n",
              "        text-align: right;\n",
              "    }\n",
              "</style>\n",
              "<table border=\"1\" class=\"dataframe\">\n",
              "  <thead>\n",
              "    <tr style=\"text-align: right;\">\n",
              "      <th></th>\n",
              "      <th>Age</th>\n",
              "      <th>Employment Type</th>\n",
              "      <th>GraduateOrNot</th>\n",
              "      <th>AnnualIncome</th>\n",
              "      <th>FamilyMembers</th>\n",
              "      <th>FrequentFlyer</th>\n",
              "      <th>EverTravelledAbroad</th>\n",
              "      <th>AnnualIncome_scaled</th>\n",
              "      <th>Age_norm</th>\n",
              "      <th>FamilyMembers_norm</th>\n",
              "      <th>Age_std</th>\n",
              "      <th>FamilyMembers_std</th>\n",
              "    </tr>\n",
              "  </thead>\n",
              "  <tbody>\n",
              "    <tr>\n",
              "      <th>0</th>\n",
              "      <td>31</td>\n",
              "      <td>0</td>\n",
              "      <td>1</td>\n",
              "      <td>400000</td>\n",
              "      <td>6</td>\n",
              "      <td>0</td>\n",
              "      <td>0</td>\n",
              "      <td>0.066667</td>\n",
              "      <td>0.6</td>\n",
              "      <td>0.571429</td>\n",
              "      <td>0.463430</td>\n",
              "      <td>0.774964</td>\n",
              "    </tr>\n",
              "    <tr>\n",
              "      <th>1</th>\n",
              "      <td>31</td>\n",
              "      <td>1</td>\n",
              "      <td>1</td>\n",
              "      <td>1250000</td>\n",
              "      <td>7</td>\n",
              "      <td>0</td>\n",
              "      <td>0</td>\n",
              "      <td>0.633333</td>\n",
              "      <td>0.6</td>\n",
              "      <td>0.714286</td>\n",
              "      <td>0.463430</td>\n",
              "      <td>1.396373</td>\n",
              "    </tr>\n",
              "    <tr>\n",
              "      <th>2</th>\n",
              "      <td>34</td>\n",
              "      <td>1</td>\n",
              "      <td>1</td>\n",
              "      <td>500000</td>\n",
              "      <td>4</td>\n",
              "      <td>0</td>\n",
              "      <td>0</td>\n",
              "      <td>0.133333</td>\n",
              "      <td>0.9</td>\n",
              "      <td>0.285714</td>\n",
              "      <td>1.493446</td>\n",
              "      <td>-0.467855</td>\n",
              "    </tr>\n",
              "    <tr>\n",
              "      <th>3</th>\n",
              "      <td>28</td>\n",
              "      <td>1</td>\n",
              "      <td>1</td>\n",
              "      <td>700000</td>\n",
              "      <td>3</td>\n",
              "      <td>0</td>\n",
              "      <td>0</td>\n",
              "      <td>0.266667</td>\n",
              "      <td>0.3</td>\n",
              "      <td>0.142857</td>\n",
              "      <td>-0.566587</td>\n",
              "      <td>-1.089265</td>\n",
              "    </tr>\n",
              "    <tr>\n",
              "      <th>4</th>\n",
              "      <td>28</td>\n",
              "      <td>1</td>\n",
              "      <td>1</td>\n",
              "      <td>700000</td>\n",
              "      <td>8</td>\n",
              "      <td>1</td>\n",
              "      <td>0</td>\n",
              "      <td>0.266667</td>\n",
              "      <td>0.3</td>\n",
              "      <td>0.857143</td>\n",
              "      <td>-0.566587</td>\n",
              "      <td>2.017783</td>\n",
              "    </tr>\n",
              "  </tbody>\n",
              "</table>\n",
              "</div>\n",
              "      <button class=\"colab-df-convert\" onclick=\"convertToInteractive('df-5f4e5fba-6d5e-439c-99e9-75da1441ed74')\"\n",
              "              title=\"Convert this dataframe to an interactive table.\"\n",
              "              style=\"display:none;\">\n",
              "        \n",
              "  <svg xmlns=\"http://www.w3.org/2000/svg\" height=\"24px\"viewBox=\"0 0 24 24\"\n",
              "       width=\"24px\">\n",
              "    <path d=\"M0 0h24v24H0V0z\" fill=\"none\"/>\n",
              "    <path d=\"M18.56 5.44l.94 2.06.94-2.06 2.06-.94-2.06-.94-.94-2.06-.94 2.06-2.06.94zm-11 1L8.5 8.5l.94-2.06 2.06-.94-2.06-.94L8.5 2.5l-.94 2.06-2.06.94zm10 10l.94 2.06.94-2.06 2.06-.94-2.06-.94-.94-2.06-.94 2.06-2.06.94z\"/><path d=\"M17.41 7.96l-1.37-1.37c-.4-.4-.92-.59-1.43-.59-.52 0-1.04.2-1.43.59L10.3 9.45l-7.72 7.72c-.78.78-.78 2.05 0 2.83L4 21.41c.39.39.9.59 1.41.59.51 0 1.02-.2 1.41-.59l7.78-7.78 2.81-2.81c.8-.78.8-2.07 0-2.86zM5.41 20L4 18.59l7.72-7.72 1.47 1.35L5.41 20z\"/>\n",
              "  </svg>\n",
              "      </button>\n",
              "      \n",
              "  <style>\n",
              "    .colab-df-container {\n",
              "      display:flex;\n",
              "      flex-wrap:wrap;\n",
              "      gap: 12px;\n",
              "    }\n",
              "\n",
              "    .colab-df-convert {\n",
              "      background-color: #E8F0FE;\n",
              "      border: none;\n",
              "      border-radius: 50%;\n",
              "      cursor: pointer;\n",
              "      display: none;\n",
              "      fill: #1967D2;\n",
              "      height: 32px;\n",
              "      padding: 0 0 0 0;\n",
              "      width: 32px;\n",
              "    }\n",
              "\n",
              "    .colab-df-convert:hover {\n",
              "      background-color: #E2EBFA;\n",
              "      box-shadow: 0px 1px 2px rgba(60, 64, 67, 0.3), 0px 1px 3px 1px rgba(60, 64, 67, 0.15);\n",
              "      fill: #174EA6;\n",
              "    }\n",
              "\n",
              "    [theme=dark] .colab-df-convert {\n",
              "      background-color: #3B4455;\n",
              "      fill: #D2E3FC;\n",
              "    }\n",
              "\n",
              "    [theme=dark] .colab-df-convert:hover {\n",
              "      background-color: #434B5C;\n",
              "      box-shadow: 0px 1px 3px 1px rgba(0, 0, 0, 0.15);\n",
              "      filter: drop-shadow(0px 1px 2px rgba(0, 0, 0, 0.3));\n",
              "      fill: #FFFFFF;\n",
              "    }\n",
              "  </style>\n",
              "\n",
              "      <script>\n",
              "        const buttonEl =\n",
              "          document.querySelector('#df-5f4e5fba-6d5e-439c-99e9-75da1441ed74 button.colab-df-convert');\n",
              "        buttonEl.style.display =\n",
              "          google.colab.kernel.accessAllowed ? 'block' : 'none';\n",
              "\n",
              "        async function convertToInteractive(key) {\n",
              "          const element = document.querySelector('#df-5f4e5fba-6d5e-439c-99e9-75da1441ed74');\n",
              "          const dataTable =\n",
              "            await google.colab.kernel.invokeFunction('convertToInteractive',\n",
              "                                                     [key], {});\n",
              "          if (!dataTable) return;\n",
              "\n",
              "          const docLinkHtml = 'Like what you see? Visit the ' +\n",
              "            '<a target=\"_blank\" href=https://colab.research.google.com/notebooks/data_table.ipynb>data table notebook</a>'\n",
              "            + ' to learn more about interactive tables.';\n",
              "          element.innerHTML = '';\n",
              "          dataTable['output_type'] = 'display_data';\n",
              "          await google.colab.output.renderOutput(dataTable, element);\n",
              "          const docLink = document.createElement('div');\n",
              "          docLink.innerHTML = docLinkHtml;\n",
              "          element.appendChild(docLink);\n",
              "        }\n",
              "      </script>\n",
              "    </div>\n",
              "  </div>\n",
              "  "
            ]
          },
          "metadata": {},
          "execution_count": 37
        }
      ]
    },
    {
      "cell_type": "code",
      "source": [
        "X = dummy_df.drop(target, axis = 1)\n",
        "y = dummy_df[target]"
      ],
      "metadata": {
        "id": "X-g1VKOyV2pQ"
      },
      "execution_count": null,
      "outputs": []
    },
    {
      "cell_type": "code",
      "source": [
        "cor = X[num_features].corr()\n",
        "plt.figure(figsize=(14, 8))\n",
        "sns.heatmap(cor, annot = True, cmap = plt.cm.CMRmap_r)\n",
        "plt.show()"
      ],
      "metadata": {
        "colab": {
          "base_uri": "https://localhost:8080/",
          "height": 586
        },
        "id": "T7vVzTY2byvc",
        "outputId": "81f32c64-b3b6-4bee-eafc-4424ae1d147a"
      },
      "execution_count": null,
      "outputs": [
        {
          "output_type": "display_data",
          "data": {
            "text/plain": [
              "<Figure size 1008x576 with 2 Axes>"
            ],
            "image/png": "[encoded data removed]"
          },
          "metadata": {
            "needs_background": "light"
          }
        }
      ]
    },
    {
      "cell_type": "markdown",
      "source": [
        "### 2.b. Feature Extraction"
      ],
      "metadata": {
        "id": "JDE7AGn-V4RU"
      }
    },
    {
      "cell_type": "markdown",
      "source": [
        "Proses feature extraction tidak dilakukan karena tidak ada lagi feature yang bisa dipecah dari data yang tersedia"
      ],
      "metadata": {
        "id": "rTGv5gnsfAOu"
      }
    },
    {
      "cell_type": "markdown",
      "source": [
        "### 2.c. Feature Additional"
      ],
      "metadata": {
        "id": "rYSQnSUkWMLI"
      }
    },
    {
      "cell_type": "markdown",
      "source": [
        "Beberapa feature tambahan yang mungkin dapat meningkatkan performance model :\n",
        "\n",
        "\n",
        "1.   Tujuan Destinasi : kota dan negara tujuan perjalanan untuk melihat kota dan negara yang menjadi segmentasi terbesar bagi customer yang membeli travel insurance. negara dan kota dengan tingkat resiko tinggi mungkin akan berpengaruh terhadap pembelian travel insurance. \n",
        "2.   Jenis Perlindungan : individu atau keluarga. untuk melihat kecenderungan customer dalam membeli travel insurance itu biasanya berpergian individu atau berkelompok.\n",
        "1.   Jenis Perjalanan : domestik atau internasional, untuk melihat jenis perjalanan apa yang menjadi pertimbangan customer dalam membeli travel insurance.\n",
        "2.   Jenis Polis : sekali jalan/ annual travel insurance. untuk melihat kebiasaan dan pola perjalanan customer. Agar kedepannya dapat dilakukan promosi yang efektif dan tepat.\n",
        "1.   Waktu Berangkat : untuk melihat apakah ada hubungan jika pemberangkatan dilakukan pada musim tertentu.\n",
        "1.   Tujuan Perjalanan : perjalanan bisnis atau liburan, untuk melihat kebiasaan dan pola perjalanan customer. Agar kedepannya dapat dilakukan promosi yang efektif dan tepat.\n",
        "2.   Jenis transportasi :  Jenis transportasi yang digunakan untuk perjalanan, seperti pesawat, kereta, atau mobil, dapat mempengaruhi keputusan untuk membeli asuransi perjalanan.\n",
        "2.   Harga Travel Insurance untuk mendapatkan prediksi revenue\n",
        "\n",
        "\n",
        "\n",
        "\n",
        "\n"
      ],
      "metadata": {
        "id": "nROCB_L2sG_8"
      }
    },
    {
      "cell_type": "code",
      "source": [
        "df.duplicated().sum()"
      ],
      "metadata": {
        "id": "PeBnqPPxwznV",
        "colab": {
          "base_uri": "https://localhost:8080/"
        },
        "outputId": "213444bd-2c49-4d06-b9bb-9369244d9114"
      },
      "execution_count": null,
      "outputs": [
        {
          "output_type": "execute_result",
          "data": {
            "text/plain": [
              "738"
            ]
          },
          "metadata": {},
          "execution_count": 46
        }
      ]
    }
  ]
}